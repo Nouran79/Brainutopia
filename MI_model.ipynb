{
  "nbformat": 4,
  "nbformat_minor": 0,
  "metadata": {
    "colab": {
      "provenance": [],
      "toc_visible": true
    },
    "kernelspec": {
      "name": "python3",
      "display_name": "Python 3"
    },
    "language_info": {
      "name": "python"
    },
    "widgets": {
      "application/vnd.jupyter.widget-state+json": {
        "8e66bc082ea14530a5edba953c5204d0": {
          "model_module": "@jupyter-widgets/controls",
          "model_name": "VBoxModel",
          "model_module_version": "1.5.0",
          "state": {
            "_dom_classes": [],
            "_model_module": "@jupyter-widgets/controls",
            "_model_module_version": "1.5.0",
            "_model_name": "VBoxModel",
            "_view_count": null,
            "_view_module": "@jupyter-widgets/controls",
            "_view_module_version": "1.5.0",
            "_view_name": "VBoxView",
            "box_style": "",
            "children": [
              "IPY_MODEL_e0f0003f3ae24c62bb5980a63130b822"
            ],
            "layout": "IPY_MODEL_edf925f4b92f4e4a99075b836e07b0c9"
          }
        },
        "8210eb09a40d41b28c2da1536f1e703e": {
          "model_module": "@jupyter-widgets/controls",
          "model_name": "HTMLModel",
          "model_module_version": "1.5.0",
          "state": {
            "_dom_classes": [],
            "_model_module": "@jupyter-widgets/controls",
            "_model_module_version": "1.5.0",
            "_model_name": "HTMLModel",
            "_view_count": null,
            "_view_module": "@jupyter-widgets/controls",
            "_view_module_version": "1.5.0",
            "_view_name": "HTMLView",
            "description": "",
            "description_tooltip": null,
            "layout": "IPY_MODEL_148871b5e45043908e5cd8f8fa503829",
            "placeholder": "​",
            "style": "IPY_MODEL_3bf5e537b681444a91fda8b3545d4ddb",
            "value": "<center> <img\nsrc=https://www.kaggle.com/static/images/site-logo.png\nalt='Kaggle'> <br> Create an API token from <a\nhref=\"https://www.kaggle.com/settings/account\" target=\"_blank\">your Kaggle\nsettings page</a> and paste it below along with your Kaggle username. <br> </center>"
          }
        },
        "be7a0bd9ec3748bebebaed178006988c": {
          "model_module": "@jupyter-widgets/controls",
          "model_name": "TextModel",
          "model_module_version": "1.5.0",
          "state": {
            "_dom_classes": [],
            "_model_module": "@jupyter-widgets/controls",
            "_model_module_version": "1.5.0",
            "_model_name": "TextModel",
            "_view_count": null,
            "_view_module": "@jupyter-widgets/controls",
            "_view_module_version": "1.5.0",
            "_view_name": "TextView",
            "continuous_update": true,
            "description": "Username:",
            "description_tooltip": null,
            "disabled": false,
            "layout": "IPY_MODEL_632362188e314f37a74e32cd756741bc",
            "placeholder": "​",
            "style": "IPY_MODEL_4275a11f5a2643278227fdc466e0bf94",
            "value": "nouranahmed79"
          }
        },
        "55122078e81e440f85727893f5c3e9ba": {
          "model_module": "@jupyter-widgets/controls",
          "model_name": "PasswordModel",
          "model_module_version": "1.5.0",
          "state": {
            "_dom_classes": [],
            "_model_module": "@jupyter-widgets/controls",
            "_model_module_version": "1.5.0",
            "_model_name": "PasswordModel",
            "_view_count": null,
            "_view_module": "@jupyter-widgets/controls",
            "_view_module_version": "1.5.0",
            "_view_name": "PasswordView",
            "continuous_update": true,
            "description": "Token:",
            "description_tooltip": null,
            "disabled": false,
            "layout": "IPY_MODEL_0ef90d4c866b4d6f8836c579edb29fa3",
            "placeholder": "​",
            "style": "IPY_MODEL_7ce8ec61de01416aaeeccca950f5b7d3",
            "value": ""
          }
        },
        "6f8de124c5714d10860a9edd6524e458": {
          "model_module": "@jupyter-widgets/controls",
          "model_name": "ButtonModel",
          "model_module_version": "1.5.0",
          "state": {
            "_dom_classes": [],
            "_model_module": "@jupyter-widgets/controls",
            "_model_module_version": "1.5.0",
            "_model_name": "ButtonModel",
            "_view_count": null,
            "_view_module": "@jupyter-widgets/controls",
            "_view_module_version": "1.5.0",
            "_view_name": "ButtonView",
            "button_style": "",
            "description": "Login",
            "disabled": false,
            "icon": "",
            "layout": "IPY_MODEL_323a8c3ee0604de59f963301146652e1",
            "style": "IPY_MODEL_96c127531c104d5a8010a4409a8d3e15",
            "tooltip": ""
          }
        },
        "eb33eb23a5f24b0bb796805945677e21": {
          "model_module": "@jupyter-widgets/controls",
          "model_name": "HTMLModel",
          "model_module_version": "1.5.0",
          "state": {
            "_dom_classes": [],
            "_model_module": "@jupyter-widgets/controls",
            "_model_module_version": "1.5.0",
            "_model_name": "HTMLModel",
            "_view_count": null,
            "_view_module": "@jupyter-widgets/controls",
            "_view_module_version": "1.5.0",
            "_view_name": "HTMLView",
            "description": "",
            "description_tooltip": null,
            "layout": "IPY_MODEL_9681d20bb5d94796ab78352565eb0bb6",
            "placeholder": "​",
            "style": "IPY_MODEL_c0e563e4df284c2cbcc32becaed4faab",
            "value": "\n<b>Thank You</b></center>"
          }
        },
        "edf925f4b92f4e4a99075b836e07b0c9": {
          "model_module": "@jupyter-widgets/base",
          "model_name": "LayoutModel",
          "model_module_version": "1.2.0",
          "state": {
            "_model_module": "@jupyter-widgets/base",
            "_model_module_version": "1.2.0",
            "_model_name": "LayoutModel",
            "_view_count": null,
            "_view_module": "@jupyter-widgets/base",
            "_view_module_version": "1.2.0",
            "_view_name": "LayoutView",
            "align_content": null,
            "align_items": "center",
            "align_self": null,
            "border": null,
            "bottom": null,
            "display": "flex",
            "flex": null,
            "flex_flow": "column",
            "grid_area": null,
            "grid_auto_columns": null,
            "grid_auto_flow": null,
            "grid_auto_rows": null,
            "grid_column": null,
            "grid_gap": null,
            "grid_row": null,
            "grid_template_areas": null,
            "grid_template_columns": null,
            "grid_template_rows": null,
            "height": null,
            "justify_content": null,
            "justify_items": null,
            "left": null,
            "margin": null,
            "max_height": null,
            "max_width": null,
            "min_height": null,
            "min_width": null,
            "object_fit": null,
            "object_position": null,
            "order": null,
            "overflow": null,
            "overflow_x": null,
            "overflow_y": null,
            "padding": null,
            "right": null,
            "top": null,
            "visibility": null,
            "width": "50%"
          }
        },
        "148871b5e45043908e5cd8f8fa503829": {
          "model_module": "@jupyter-widgets/base",
          "model_name": "LayoutModel",
          "model_module_version": "1.2.0",
          "state": {
            "_model_module": "@jupyter-widgets/base",
            "_model_module_version": "1.2.0",
            "_model_name": "LayoutModel",
            "_view_count": null,
            "_view_module": "@jupyter-widgets/base",
            "_view_module_version": "1.2.0",
            "_view_name": "LayoutView",
            "align_content": null,
            "align_items": null,
            "align_self": null,
            "border": null,
            "bottom": null,
            "display": null,
            "flex": null,
            "flex_flow": null,
            "grid_area": null,
            "grid_auto_columns": null,
            "grid_auto_flow": null,
            "grid_auto_rows": null,
            "grid_column": null,
            "grid_gap": null,
            "grid_row": null,
            "grid_template_areas": null,
            "grid_template_columns": null,
            "grid_template_rows": null,
            "height": null,
            "justify_content": null,
            "justify_items": null,
            "left": null,
            "margin": null,
            "max_height": null,
            "max_width": null,
            "min_height": null,
            "min_width": null,
            "object_fit": null,
            "object_position": null,
            "order": null,
            "overflow": null,
            "overflow_x": null,
            "overflow_y": null,
            "padding": null,
            "right": null,
            "top": null,
            "visibility": null,
            "width": null
          }
        },
        "3bf5e537b681444a91fda8b3545d4ddb": {
          "model_module": "@jupyter-widgets/controls",
          "model_name": "DescriptionStyleModel",
          "model_module_version": "1.5.0",
          "state": {
            "_model_module": "@jupyter-widgets/controls",
            "_model_module_version": "1.5.0",
            "_model_name": "DescriptionStyleModel",
            "_view_count": null,
            "_view_module": "@jupyter-widgets/base",
            "_view_module_version": "1.2.0",
            "_view_name": "StyleView",
            "description_width": ""
          }
        },
        "632362188e314f37a74e32cd756741bc": {
          "model_module": "@jupyter-widgets/base",
          "model_name": "LayoutModel",
          "model_module_version": "1.2.0",
          "state": {
            "_model_module": "@jupyter-widgets/base",
            "_model_module_version": "1.2.0",
            "_model_name": "LayoutModel",
            "_view_count": null,
            "_view_module": "@jupyter-widgets/base",
            "_view_module_version": "1.2.0",
            "_view_name": "LayoutView",
            "align_content": null,
            "align_items": null,
            "align_self": null,
            "border": null,
            "bottom": null,
            "display": null,
            "flex": null,
            "flex_flow": null,
            "grid_area": null,
            "grid_auto_columns": null,
            "grid_auto_flow": null,
            "grid_auto_rows": null,
            "grid_column": null,
            "grid_gap": null,
            "grid_row": null,
            "grid_template_areas": null,
            "grid_template_columns": null,
            "grid_template_rows": null,
            "height": null,
            "justify_content": null,
            "justify_items": null,
            "left": null,
            "margin": null,
            "max_height": null,
            "max_width": null,
            "min_height": null,
            "min_width": null,
            "object_fit": null,
            "object_position": null,
            "order": null,
            "overflow": null,
            "overflow_x": null,
            "overflow_y": null,
            "padding": null,
            "right": null,
            "top": null,
            "visibility": null,
            "width": null
          }
        },
        "4275a11f5a2643278227fdc466e0bf94": {
          "model_module": "@jupyter-widgets/controls",
          "model_name": "DescriptionStyleModel",
          "model_module_version": "1.5.0",
          "state": {
            "_model_module": "@jupyter-widgets/controls",
            "_model_module_version": "1.5.0",
            "_model_name": "DescriptionStyleModel",
            "_view_count": null,
            "_view_module": "@jupyter-widgets/base",
            "_view_module_version": "1.2.0",
            "_view_name": "StyleView",
            "description_width": ""
          }
        },
        "0ef90d4c866b4d6f8836c579edb29fa3": {
          "model_module": "@jupyter-widgets/base",
          "model_name": "LayoutModel",
          "model_module_version": "1.2.0",
          "state": {
            "_model_module": "@jupyter-widgets/base",
            "_model_module_version": "1.2.0",
            "_model_name": "LayoutModel",
            "_view_count": null,
            "_view_module": "@jupyter-widgets/base",
            "_view_module_version": "1.2.0",
            "_view_name": "LayoutView",
            "align_content": null,
            "align_items": null,
            "align_self": null,
            "border": null,
            "bottom": null,
            "display": null,
            "flex": null,
            "flex_flow": null,
            "grid_area": null,
            "grid_auto_columns": null,
            "grid_auto_flow": null,
            "grid_auto_rows": null,
            "grid_column": null,
            "grid_gap": null,
            "grid_row": null,
            "grid_template_areas": null,
            "grid_template_columns": null,
            "grid_template_rows": null,
            "height": null,
            "justify_content": null,
            "justify_items": null,
            "left": null,
            "margin": null,
            "max_height": null,
            "max_width": null,
            "min_height": null,
            "min_width": null,
            "object_fit": null,
            "object_position": null,
            "order": null,
            "overflow": null,
            "overflow_x": null,
            "overflow_y": null,
            "padding": null,
            "right": null,
            "top": null,
            "visibility": null,
            "width": null
          }
        },
        "7ce8ec61de01416aaeeccca950f5b7d3": {
          "model_module": "@jupyter-widgets/controls",
          "model_name": "DescriptionStyleModel",
          "model_module_version": "1.5.0",
          "state": {
            "_model_module": "@jupyter-widgets/controls",
            "_model_module_version": "1.5.0",
            "_model_name": "DescriptionStyleModel",
            "_view_count": null,
            "_view_module": "@jupyter-widgets/base",
            "_view_module_version": "1.2.0",
            "_view_name": "StyleView",
            "description_width": ""
          }
        },
        "323a8c3ee0604de59f963301146652e1": {
          "model_module": "@jupyter-widgets/base",
          "model_name": "LayoutModel",
          "model_module_version": "1.2.0",
          "state": {
            "_model_module": "@jupyter-widgets/base",
            "_model_module_version": "1.2.0",
            "_model_name": "LayoutModel",
            "_view_count": null,
            "_view_module": "@jupyter-widgets/base",
            "_view_module_version": "1.2.0",
            "_view_name": "LayoutView",
            "align_content": null,
            "align_items": null,
            "align_self": null,
            "border": null,
            "bottom": null,
            "display": null,
            "flex": null,
            "flex_flow": null,
            "grid_area": null,
            "grid_auto_columns": null,
            "grid_auto_flow": null,
            "grid_auto_rows": null,
            "grid_column": null,
            "grid_gap": null,
            "grid_row": null,
            "grid_template_areas": null,
            "grid_template_columns": null,
            "grid_template_rows": null,
            "height": null,
            "justify_content": null,
            "justify_items": null,
            "left": null,
            "margin": null,
            "max_height": null,
            "max_width": null,
            "min_height": null,
            "min_width": null,
            "object_fit": null,
            "object_position": null,
            "order": null,
            "overflow": null,
            "overflow_x": null,
            "overflow_y": null,
            "padding": null,
            "right": null,
            "top": null,
            "visibility": null,
            "width": null
          }
        },
        "96c127531c104d5a8010a4409a8d3e15": {
          "model_module": "@jupyter-widgets/controls",
          "model_name": "ButtonStyleModel",
          "model_module_version": "1.5.0",
          "state": {
            "_model_module": "@jupyter-widgets/controls",
            "_model_module_version": "1.5.0",
            "_model_name": "ButtonStyleModel",
            "_view_count": null,
            "_view_module": "@jupyter-widgets/base",
            "_view_module_version": "1.2.0",
            "_view_name": "StyleView",
            "button_color": null,
            "font_weight": ""
          }
        },
        "9681d20bb5d94796ab78352565eb0bb6": {
          "model_module": "@jupyter-widgets/base",
          "model_name": "LayoutModel",
          "model_module_version": "1.2.0",
          "state": {
            "_model_module": "@jupyter-widgets/base",
            "_model_module_version": "1.2.0",
            "_model_name": "LayoutModel",
            "_view_count": null,
            "_view_module": "@jupyter-widgets/base",
            "_view_module_version": "1.2.0",
            "_view_name": "LayoutView",
            "align_content": null,
            "align_items": null,
            "align_self": null,
            "border": null,
            "bottom": null,
            "display": null,
            "flex": null,
            "flex_flow": null,
            "grid_area": null,
            "grid_auto_columns": null,
            "grid_auto_flow": null,
            "grid_auto_rows": null,
            "grid_column": null,
            "grid_gap": null,
            "grid_row": null,
            "grid_template_areas": null,
            "grid_template_columns": null,
            "grid_template_rows": null,
            "height": null,
            "justify_content": null,
            "justify_items": null,
            "left": null,
            "margin": null,
            "max_height": null,
            "max_width": null,
            "min_height": null,
            "min_width": null,
            "object_fit": null,
            "object_position": null,
            "order": null,
            "overflow": null,
            "overflow_x": null,
            "overflow_y": null,
            "padding": null,
            "right": null,
            "top": null,
            "visibility": null,
            "width": null
          }
        },
        "c0e563e4df284c2cbcc32becaed4faab": {
          "model_module": "@jupyter-widgets/controls",
          "model_name": "DescriptionStyleModel",
          "model_module_version": "1.5.0",
          "state": {
            "_model_module": "@jupyter-widgets/controls",
            "_model_module_version": "1.5.0",
            "_model_name": "DescriptionStyleModel",
            "_view_count": null,
            "_view_module": "@jupyter-widgets/base",
            "_view_module_version": "1.2.0",
            "_view_name": "StyleView",
            "description_width": ""
          }
        },
        "844c65e8fbb14cb3a69659b8b639f459": {
          "model_module": "@jupyter-widgets/controls",
          "model_name": "LabelModel",
          "model_module_version": "1.5.0",
          "state": {
            "_dom_classes": [],
            "_model_module": "@jupyter-widgets/controls",
            "_model_module_version": "1.5.0",
            "_model_name": "LabelModel",
            "_view_count": null,
            "_view_module": "@jupyter-widgets/controls",
            "_view_module_version": "1.5.0",
            "_view_name": "LabelView",
            "description": "",
            "description_tooltip": null,
            "layout": "IPY_MODEL_0e7119abfe9f492296cff0ee8ff9fb5e",
            "placeholder": "​",
            "style": "IPY_MODEL_0f1f340d3e9041aebd08717bc6e54e70",
            "value": "Connecting..."
          }
        },
        "0e7119abfe9f492296cff0ee8ff9fb5e": {
          "model_module": "@jupyter-widgets/base",
          "model_name": "LayoutModel",
          "model_module_version": "1.2.0",
          "state": {
            "_model_module": "@jupyter-widgets/base",
            "_model_module_version": "1.2.0",
            "_model_name": "LayoutModel",
            "_view_count": null,
            "_view_module": "@jupyter-widgets/base",
            "_view_module_version": "1.2.0",
            "_view_name": "LayoutView",
            "align_content": null,
            "align_items": null,
            "align_self": null,
            "border": null,
            "bottom": null,
            "display": null,
            "flex": null,
            "flex_flow": null,
            "grid_area": null,
            "grid_auto_columns": null,
            "grid_auto_flow": null,
            "grid_auto_rows": null,
            "grid_column": null,
            "grid_gap": null,
            "grid_row": null,
            "grid_template_areas": null,
            "grid_template_columns": null,
            "grid_template_rows": null,
            "height": null,
            "justify_content": null,
            "justify_items": null,
            "left": null,
            "margin": null,
            "max_height": null,
            "max_width": null,
            "min_height": null,
            "min_width": null,
            "object_fit": null,
            "object_position": null,
            "order": null,
            "overflow": null,
            "overflow_x": null,
            "overflow_y": null,
            "padding": null,
            "right": null,
            "top": null,
            "visibility": null,
            "width": null
          }
        },
        "0f1f340d3e9041aebd08717bc6e54e70": {
          "model_module": "@jupyter-widgets/controls",
          "model_name": "DescriptionStyleModel",
          "model_module_version": "1.5.0",
          "state": {
            "_model_module": "@jupyter-widgets/controls",
            "_model_module_version": "1.5.0",
            "_model_name": "DescriptionStyleModel",
            "_view_count": null,
            "_view_module": "@jupyter-widgets/base",
            "_view_module_version": "1.2.0",
            "_view_name": "StyleView",
            "description_width": ""
          }
        },
        "e0f0003f3ae24c62bb5980a63130b822": {
          "model_module": "@jupyter-widgets/controls",
          "model_name": "LabelModel",
          "model_module_version": "1.5.0",
          "state": {
            "_dom_classes": [],
            "_model_module": "@jupyter-widgets/controls",
            "_model_module_version": "1.5.0",
            "_model_name": "LabelModel",
            "_view_count": null,
            "_view_module": "@jupyter-widgets/controls",
            "_view_module_version": "1.5.0",
            "_view_name": "LabelView",
            "description": "",
            "description_tooltip": null,
            "layout": "IPY_MODEL_346e807d015e4564a42c9cf61963e458",
            "placeholder": "​",
            "style": "IPY_MODEL_d788153982ab40be994443ca6ae46961",
            "value": "Kaggle credentials successfully validated."
          }
        },
        "346e807d015e4564a42c9cf61963e458": {
          "model_module": "@jupyter-widgets/base",
          "model_name": "LayoutModel",
          "model_module_version": "1.2.0",
          "state": {
            "_model_module": "@jupyter-widgets/base",
            "_model_module_version": "1.2.0",
            "_model_name": "LayoutModel",
            "_view_count": null,
            "_view_module": "@jupyter-widgets/base",
            "_view_module_version": "1.2.0",
            "_view_name": "LayoutView",
            "align_content": null,
            "align_items": null,
            "align_self": null,
            "border": null,
            "bottom": null,
            "display": null,
            "flex": null,
            "flex_flow": null,
            "grid_area": null,
            "grid_auto_columns": null,
            "grid_auto_flow": null,
            "grid_auto_rows": null,
            "grid_column": null,
            "grid_gap": null,
            "grid_row": null,
            "grid_template_areas": null,
            "grid_template_columns": null,
            "grid_template_rows": null,
            "height": null,
            "justify_content": null,
            "justify_items": null,
            "left": null,
            "margin": null,
            "max_height": null,
            "max_width": null,
            "min_height": null,
            "min_width": null,
            "object_fit": null,
            "object_position": null,
            "order": null,
            "overflow": null,
            "overflow_x": null,
            "overflow_y": null,
            "padding": null,
            "right": null,
            "top": null,
            "visibility": null,
            "width": null
          }
        },
        "d788153982ab40be994443ca6ae46961": {
          "model_module": "@jupyter-widgets/controls",
          "model_name": "DescriptionStyleModel",
          "model_module_version": "1.5.0",
          "state": {
            "_model_module": "@jupyter-widgets/controls",
            "_model_module_version": "1.5.0",
            "_model_name": "DescriptionStyleModel",
            "_view_count": null,
            "_view_module": "@jupyter-widgets/base",
            "_view_module_version": "1.2.0",
            "_view_name": "StyleView",
            "description_width": ""
          }
        },
        "69d231aa264a4ef7843a8e7ec80fe8e5": {
          "model_module": "@jupyter-widgets/controls",
          "model_name": "HBoxModel",
          "model_module_version": "1.5.0",
          "state": {
            "_dom_classes": [],
            "_model_module": "@jupyter-widgets/controls",
            "_model_module_version": "1.5.0",
            "_model_name": "HBoxModel",
            "_view_count": null,
            "_view_module": "@jupyter-widgets/controls",
            "_view_module_version": "1.5.0",
            "_view_name": "HBoxView",
            "box_style": "",
            "children": [
              "IPY_MODEL_18563f9ea6ea434a83ee8d47cd5beb44",
              "IPY_MODEL_55bda6845f524ba1b2832c03fbfbc675",
              "IPY_MODEL_2a9e2f28273a40d7b530273da8c1478e"
            ],
            "layout": "IPY_MODEL_f6773abf23b64d5dae21588731a963bc"
          }
        },
        "18563f9ea6ea434a83ee8d47cd5beb44": {
          "model_module": "@jupyter-widgets/controls",
          "model_name": "HTMLModel",
          "model_module_version": "1.5.0",
          "state": {
            "_dom_classes": [],
            "_model_module": "@jupyter-widgets/controls",
            "_model_module_version": "1.5.0",
            "_model_name": "HTMLModel",
            "_view_count": null,
            "_view_module": "@jupyter-widgets/controls",
            "_view_module_version": "1.5.0",
            "_view_name": "HTMLView",
            "description": "",
            "description_tooltip": null,
            "layout": "IPY_MODEL_a276714229494a879f65eda97acd7ce2",
            "placeholder": "​",
            "style": "IPY_MODEL_0b56d28696814452a23bc6b58c9f9bc3",
            "value": "100%"
          }
        },
        "55bda6845f524ba1b2832c03fbfbc675": {
          "model_module": "@jupyter-widgets/controls",
          "model_name": "FloatProgressModel",
          "model_module_version": "1.5.0",
          "state": {
            "_dom_classes": [],
            "_model_module": "@jupyter-widgets/controls",
            "_model_module_version": "1.5.0",
            "_model_name": "FloatProgressModel",
            "_view_count": null,
            "_view_module": "@jupyter-widgets/controls",
            "_view_module_version": "1.5.0",
            "_view_name": "ProgressView",
            "bar_style": "success",
            "description": "",
            "description_tooltip": null,
            "layout": "IPY_MODEL_7bb93b307912454394f1bdec00c48bd9",
            "max": 32,
            "min": 0,
            "orientation": "horizontal",
            "style": "IPY_MODEL_4f292902db1a4892a0ae0ab36a85a8f0",
            "value": 32
          }
        },
        "2a9e2f28273a40d7b530273da8c1478e": {
          "model_module": "@jupyter-widgets/controls",
          "model_name": "HTMLModel",
          "model_module_version": "1.5.0",
          "state": {
            "_dom_classes": [],
            "_model_module": "@jupyter-widgets/controls",
            "_model_module_version": "1.5.0",
            "_model_name": "HTMLModel",
            "_view_count": null,
            "_view_module": "@jupyter-widgets/controls",
            "_view_module_version": "1.5.0",
            "_view_name": "HTMLView",
            "description": "",
            "description_tooltip": null,
            "layout": "IPY_MODEL_87ea502f02164324bd02f1c070a9568f",
            "placeholder": "​",
            "style": "IPY_MODEL_0f8ad2ba8c4443938145d59271161d1b",
            "value": " 32/32 [00:18&lt;00:00,  1.67it/s]"
          }
        },
        "f6773abf23b64d5dae21588731a963bc": {
          "model_module": "@jupyter-widgets/base",
          "model_name": "LayoutModel",
          "model_module_version": "1.2.0",
          "state": {
            "_model_module": "@jupyter-widgets/base",
            "_model_module_version": "1.2.0",
            "_model_name": "LayoutModel",
            "_view_count": null,
            "_view_module": "@jupyter-widgets/base",
            "_view_module_version": "1.2.0",
            "_view_name": "LayoutView",
            "align_content": null,
            "align_items": null,
            "align_self": null,
            "border": null,
            "bottom": null,
            "display": null,
            "flex": null,
            "flex_flow": null,
            "grid_area": null,
            "grid_auto_columns": null,
            "grid_auto_flow": null,
            "grid_auto_rows": null,
            "grid_column": null,
            "grid_gap": null,
            "grid_row": null,
            "grid_template_areas": null,
            "grid_template_columns": null,
            "grid_template_rows": null,
            "height": null,
            "justify_content": null,
            "justify_items": null,
            "left": null,
            "margin": null,
            "max_height": null,
            "max_width": null,
            "min_height": null,
            "min_width": null,
            "object_fit": null,
            "object_position": null,
            "order": null,
            "overflow": null,
            "overflow_x": null,
            "overflow_y": null,
            "padding": null,
            "right": null,
            "top": null,
            "visibility": null,
            "width": null
          }
        },
        "a276714229494a879f65eda97acd7ce2": {
          "model_module": "@jupyter-widgets/base",
          "model_name": "LayoutModel",
          "model_module_version": "1.2.0",
          "state": {
            "_model_module": "@jupyter-widgets/base",
            "_model_module_version": "1.2.0",
            "_model_name": "LayoutModel",
            "_view_count": null,
            "_view_module": "@jupyter-widgets/base",
            "_view_module_version": "1.2.0",
            "_view_name": "LayoutView",
            "align_content": null,
            "align_items": null,
            "align_self": null,
            "border": null,
            "bottom": null,
            "display": null,
            "flex": null,
            "flex_flow": null,
            "grid_area": null,
            "grid_auto_columns": null,
            "grid_auto_flow": null,
            "grid_auto_rows": null,
            "grid_column": null,
            "grid_gap": null,
            "grid_row": null,
            "grid_template_areas": null,
            "grid_template_columns": null,
            "grid_template_rows": null,
            "height": null,
            "justify_content": null,
            "justify_items": null,
            "left": null,
            "margin": null,
            "max_height": null,
            "max_width": null,
            "min_height": null,
            "min_width": null,
            "object_fit": null,
            "object_position": null,
            "order": null,
            "overflow": null,
            "overflow_x": null,
            "overflow_y": null,
            "padding": null,
            "right": null,
            "top": null,
            "visibility": null,
            "width": null
          }
        },
        "0b56d28696814452a23bc6b58c9f9bc3": {
          "model_module": "@jupyter-widgets/controls",
          "model_name": "DescriptionStyleModel",
          "model_module_version": "1.5.0",
          "state": {
            "_model_module": "@jupyter-widgets/controls",
            "_model_module_version": "1.5.0",
            "_model_name": "DescriptionStyleModel",
            "_view_count": null,
            "_view_module": "@jupyter-widgets/base",
            "_view_module_version": "1.2.0",
            "_view_name": "StyleView",
            "description_width": ""
          }
        },
        "7bb93b307912454394f1bdec00c48bd9": {
          "model_module": "@jupyter-widgets/base",
          "model_name": "LayoutModel",
          "model_module_version": "1.2.0",
          "state": {
            "_model_module": "@jupyter-widgets/base",
            "_model_module_version": "1.2.0",
            "_model_name": "LayoutModel",
            "_view_count": null,
            "_view_module": "@jupyter-widgets/base",
            "_view_module_version": "1.2.0",
            "_view_name": "LayoutView",
            "align_content": null,
            "align_items": null,
            "align_self": null,
            "border": null,
            "bottom": null,
            "display": null,
            "flex": null,
            "flex_flow": null,
            "grid_area": null,
            "grid_auto_columns": null,
            "grid_auto_flow": null,
            "grid_auto_rows": null,
            "grid_column": null,
            "grid_gap": null,
            "grid_row": null,
            "grid_template_areas": null,
            "grid_template_columns": null,
            "grid_template_rows": null,
            "height": null,
            "justify_content": null,
            "justify_items": null,
            "left": null,
            "margin": null,
            "max_height": null,
            "max_width": null,
            "min_height": null,
            "min_width": null,
            "object_fit": null,
            "object_position": null,
            "order": null,
            "overflow": null,
            "overflow_x": null,
            "overflow_y": null,
            "padding": null,
            "right": null,
            "top": null,
            "visibility": null,
            "width": null
          }
        },
        "4f292902db1a4892a0ae0ab36a85a8f0": {
          "model_module": "@jupyter-widgets/controls",
          "model_name": "ProgressStyleModel",
          "model_module_version": "1.5.0",
          "state": {
            "_model_module": "@jupyter-widgets/controls",
            "_model_module_version": "1.5.0",
            "_model_name": "ProgressStyleModel",
            "_view_count": null,
            "_view_module": "@jupyter-widgets/base",
            "_view_module_version": "1.2.0",
            "_view_name": "StyleView",
            "bar_color": null,
            "description_width": ""
          }
        },
        "87ea502f02164324bd02f1c070a9568f": {
          "model_module": "@jupyter-widgets/base",
          "model_name": "LayoutModel",
          "model_module_version": "1.2.0",
          "state": {
            "_model_module": "@jupyter-widgets/base",
            "_model_module_version": "1.2.0",
            "_model_name": "LayoutModel",
            "_view_count": null,
            "_view_module": "@jupyter-widgets/base",
            "_view_module_version": "1.2.0",
            "_view_name": "LayoutView",
            "align_content": null,
            "align_items": null,
            "align_self": null,
            "border": null,
            "bottom": null,
            "display": null,
            "flex": null,
            "flex_flow": null,
            "grid_area": null,
            "grid_auto_columns": null,
            "grid_auto_flow": null,
            "grid_auto_rows": null,
            "grid_column": null,
            "grid_gap": null,
            "grid_row": null,
            "grid_template_areas": null,
            "grid_template_columns": null,
            "grid_template_rows": null,
            "height": null,
            "justify_content": null,
            "justify_items": null,
            "left": null,
            "margin": null,
            "max_height": null,
            "max_width": null,
            "min_height": null,
            "min_width": null,
            "object_fit": null,
            "object_position": null,
            "order": null,
            "overflow": null,
            "overflow_x": null,
            "overflow_y": null,
            "padding": null,
            "right": null,
            "top": null,
            "visibility": null,
            "width": null
          }
        },
        "0f8ad2ba8c4443938145d59271161d1b": {
          "model_module": "@jupyter-widgets/controls",
          "model_name": "DescriptionStyleModel",
          "model_module_version": "1.5.0",
          "state": {
            "_model_module": "@jupyter-widgets/controls",
            "_model_module_version": "1.5.0",
            "_model_name": "DescriptionStyleModel",
            "_view_count": null,
            "_view_module": "@jupyter-widgets/base",
            "_view_module_version": "1.2.0",
            "_view_name": "StyleView",
            "description_width": ""
          }
        }
      }
    }
  },
  "cells": [
    {
      "cell_type": "markdown",
      "source": [
        "## Load data"
      ],
      "metadata": {
        "id": "ctykfGWBpzGE"
      }
    },
    {
      "cell_type": "code",
      "execution_count": null,
      "metadata": {
        "colab": {
          "base_uri": "https://localhost:8080/"
        },
        "id": "zB1ktjABPAuN",
        "outputId": "03e8845c-d4a6-4afb-95a9-8a7fce5cbfbc"
      },
      "outputs": [
        {
          "output_type": "stream",
          "name": "stdout",
          "text": [
            "Mounted at /content/drive\n"
          ]
        }
      ],
      "source": [
        "from google.colab import drive\n",
        "drive.mount('/content/drive')"
      ]
    },
    {
      "cell_type": "code",
      "source": [
        "# IMPORTANT: SOME KAGGLE DATA SOURCES ARE PRIVATE\n",
        "# RUN THIS CELL IN ORDER TO IMPORT YOUR KAGGLE DATA SOURCES.\n",
        "import kagglehub\n",
        "kagglehub.login()"
      ],
      "metadata": {
        "colab": {
          "base_uri": "https://localhost:8080/",
          "referenced_widgets": [
            "8e66bc082ea14530a5edba953c5204d0",
            "8210eb09a40d41b28c2da1536f1e703e",
            "be7a0bd9ec3748bebebaed178006988c",
            "55122078e81e440f85727893f5c3e9ba",
            "6f8de124c5714d10860a9edd6524e458",
            "eb33eb23a5f24b0bb796805945677e21",
            "edf925f4b92f4e4a99075b836e07b0c9",
            "148871b5e45043908e5cd8f8fa503829",
            "3bf5e537b681444a91fda8b3545d4ddb",
            "632362188e314f37a74e32cd756741bc",
            "4275a11f5a2643278227fdc466e0bf94",
            "0ef90d4c866b4d6f8836c579edb29fa3",
            "7ce8ec61de01416aaeeccca950f5b7d3",
            "323a8c3ee0604de59f963301146652e1",
            "96c127531c104d5a8010a4409a8d3e15",
            "9681d20bb5d94796ab78352565eb0bb6",
            "c0e563e4df284c2cbcc32becaed4faab",
            "844c65e8fbb14cb3a69659b8b639f459",
            "0e7119abfe9f492296cff0ee8ff9fb5e",
            "0f1f340d3e9041aebd08717bc6e54e70",
            "e0f0003f3ae24c62bb5980a63130b822",
            "346e807d015e4564a42c9cf61963e458",
            "d788153982ab40be994443ca6ae46961"
          ]
        },
        "id": "1ynMfHmV6duP",
        "outputId": "99553e7b-d642-4784-87ed-234f6fc6bfda"
      },
      "execution_count": null,
      "outputs": [
        {
          "output_type": "display_data",
          "data": {
            "text/plain": [
              "VBox(children=(HTML(value='<center> <img\\nsrc=https://www.kaggle.com/static/images/site-logo.png\\nalt=\\'Kaggle…"
            ],
            "application/vnd.jupyter.widget-view+json": {
              "version_major": 2,
              "version_minor": 0,
              "model_id": "8e66bc082ea14530a5edba953c5204d0"
            }
          },
          "metadata": {}
        },
        {
          "output_type": "stream",
          "name": "stdout",
          "text": [
            "Kaggle credentials set.\n",
            "Kaggle credentials successfully validated.\n"
          ]
        }
      ]
    },
    {
      "cell_type": "code",
      "source": [
        "# IMPORTANT: RUN THIS CELL IN ORDER TO IMPORT YOUR KAGGLE DATA SOURCES,\n",
        "# THEN FEEL FREE TO DELETE THIS CELL.\n",
        "# NOTE: THIS NOTEBOOK ENVIRONMENT DIFFERS FROM KAGGLE'S PYTHON\n",
        "# ENVIRONMENT SO THERE MAY BE MISSING LIBRARIES USED BY YOUR\n",
        "# NOTEBOOK.\n",
        "\n",
        "mtcaic3_path = kagglehub.competition_download('mtcaic3')\n",
        "\n",
        "print('Data source import complete.')\n",
        "\n",
        "# move data to content data\n",
        "import shutil\n",
        "shutil.move(mtcaic3_path,'/content/mtcaic3')\n",
        "print('Data moved successfully.')"
      ],
      "metadata": {
        "colab": {
          "base_uri": "https://localhost:8080/"
        },
        "id": "HhN6AayR6dsT",
        "outputId": "833a2686-8322-456a-cb6d-390262d0e45b"
      },
      "execution_count": null,
      "outputs": [
        {
          "output_type": "stream",
          "name": "stdout",
          "text": [
            "Downloading from https://www.kaggle.com/api/v1/competitions/data/download-all/mtcaic3...\n"
          ]
        },
        {
          "output_type": "stream",
          "name": "stderr",
          "text": [
            "100%|██████████| 533M/533M [00:07<00:00, 78.5MB/s]"
          ]
        },
        {
          "output_type": "stream",
          "name": "stdout",
          "text": [
            "Extracting files...\n"
          ]
        },
        {
          "output_type": "stream",
          "name": "stderr",
          "text": [
            "\n"
          ]
        },
        {
          "output_type": "stream",
          "name": "stdout",
          "text": [
            "Data source import complete.\n",
            "Data moved successfully.\n"
          ]
        }
      ]
    },
    {
      "cell_type": "code",
      "source": [
        "import pandas as pd\n",
        "import numpy as np\n",
        "import os\n",
        "from tqdm import tqdm\n",
        "\n",
        "base_path = '/content/mtcaic3'\n",
        "\n",
        "train_df = pd.read_csv(os.path.join(base_path, 'train.csv'))\n",
        "validation_df = pd.read_csv(os.path.join(base_path, 'validation.csv'))\n",
        "test_df = pd.read_csv(os.path.join(base_path, 'test.csv'))"
      ],
      "metadata": {
        "id": "D04JKl-G6dom"
      },
      "execution_count": null,
      "outputs": []
    },
    {
      "cell_type": "code",
      "source": [
        "import os\n",
        "import random\n",
        "import numpy as np\n",
        "import tensorflow as tf\n",
        "\n",
        "seed = 42\n",
        "os.environ['PYTHONHASHSEED'] = str(seed)\n",
        "random.seed(seed)\n",
        "np.random.seed(seed)\n",
        "tf.random.set_seed(seed)\n"
      ],
      "metadata": {
        "id": "BqtwJE7b6dmK"
      },
      "execution_count": null,
      "outputs": []
    },
    {
      "cell_type": "code",
      "source": [
        "X_train_MI_gyro = []\n",
        "X_val_MI_gyro = []\n",
        "X_test_MI_gyro= []\n"
      ],
      "metadata": {
        "id": "pDR5FBA56ifM"
      },
      "execution_count": null,
      "outputs": []
    },
    {
      "cell_type": "code",
      "source": [
        "X_train_MI = []\n",
        "X_val_MI= []\n",
        "X_test_MI= []"
      ],
      "metadata": {
        "id": "oDlPIzy9jEqs"
      },
      "execution_count": null,
      "outputs": []
    },
    {
      "cell_type": "code",
      "source": [
        "# load training data\n",
        "eeg_channels =  ['FZ', 'C3', 'CZ', 'C4', 'PZ', 'PO7', 'OZ', 'PO8']\n",
        "\n",
        "\n",
        "for i in tqdm(range(len(train_df))):\n",
        "\n",
        "    row = train_df.iloc[i]\n",
        "    task = row['task']\n",
        "    if task != 'MI':\n",
        "      continue\n",
        "    subject_id = row['subject_id']\n",
        "    session = row['trial_session']\n",
        "    trial_num = row['trial']\n",
        "    label = row['label']\n",
        "\n",
        "    # Choose number of samples per trial\n",
        "    samples_per_trial = 2250\n",
        "\n",
        "    # Path to EEGdata.csv\n",
        "    eeg_path = os.path.join(base_path, task, 'train', f\"{subject_id}\", str(session), 'EEGdata.csv')\n",
        "    eeg_data = pd.read_csv(eeg_path)\n",
        "\n",
        "    # Extract trial\n",
        "    start_idx = (trial_num - 1) * samples_per_trial\n",
        "    end_idx = start_idx + samples_per_trial\n",
        "    trial_data = eeg_data.iloc[start_idx:end_idx]\n",
        "\n",
        "\n",
        "    eeg_segment = trial_data[eeg_channels].values  # shape: (samples, 8)\n",
        "\n",
        "    X_train_MI.append(eeg_segment)\n",
        "\n",
        "# load validation data\n",
        "\n",
        "for i in tqdm(range(len(validation_df))):\n",
        "\n",
        "    row = validation_df.iloc[i]\n",
        "    task = row['task']\n",
        "    if task != 'MI':\n",
        "      continue\n",
        "    subject_id = row['subject_id']\n",
        "    session = row['trial_session']\n",
        "    trial_num = row['trial']\n",
        "\n",
        "    label = row['label']\n",
        "\n",
        "    samples_per_trial = 2250\n",
        "\n",
        "    eeg_path = os.path.join(base_path, task, 'validation', f\"{subject_id}\", str(session), 'EEGdata.csv')\n",
        "    eeg_data = pd.read_csv(eeg_path)\n",
        "\n",
        "    start_idx = (trial_num - 1) * samples_per_trial\n",
        "    end_idx = start_idx + samples_per_trial\n",
        "    trial_data = eeg_data.iloc[start_idx:end_idx]\n",
        "\n",
        "    eeg_segment = trial_data[eeg_channels].values\n",
        "\n",
        "    X_val_MI.append(eeg_segment)\n",
        "\n",
        "# load test data\n",
        "\n",
        "for i in tqdm(range(len(test_df))):\n",
        "\n",
        "    row = test_df.iloc[i]\n",
        "    task = row['task']\n",
        "    if task != 'MI':\n",
        "      continue\n",
        "    subject_id = row['subject_id']\n",
        "    session = row['trial_session']\n",
        "    trial_num = row['trial']\n",
        "    id_num = row['id']\n",
        "    # Choose number of samples per trial\n",
        "    samples_per_trial = 2250 if task == 'MI' else 1750\n",
        "\n",
        "    # Path to EEGdata.csv\n",
        "    eeg_path = os.path.join(base_path, task, 'test', f\"{subject_id}\", str(session), 'EEGdata.csv')\n",
        "    eeg_data = pd.read_csv(eeg_path)\n",
        "\n",
        "    # Extract trial\n",
        "    start_idx = (trial_num - 1) * samples_per_trial\n",
        "    end_idx = start_idx + samples_per_trial\n",
        "    trial_data = eeg_data.iloc[start_idx:end_idx]\n",
        "\n",
        "    eeg_segment = trial_data[eeg_channels].values  # shape: (samples, 5)\n",
        "\n",
        "    X_test_MI.append(eeg_segment)\n"
      ],
      "metadata": {
        "id": "x4Vzjsn6i53S"
      },
      "execution_count": null,
      "outputs": []
    },
    {
      "cell_type": "code",
      "source": [
        "# load training data\n",
        "eeg_channels = ['Gyro1', 'Gyro2', 'Gyro3' ]\n",
        "\n",
        "for i in tqdm(range(len(train_df))):\n",
        "\n",
        "    row = train_df.iloc[i]\n",
        "    task = row['task']\n",
        "    if task != 'MI':\n",
        "      continue\n",
        "    subject_id = row['subject_id']\n",
        "    session = row['trial_session']\n",
        "    trial_num = row['trial']\n",
        "    label = row['label']\n",
        "\n",
        "    # Choose number of samples per trial\n",
        "    samples_per_trial = 2250\n",
        "\n",
        "    # Path to EEGdata.csv\n",
        "    eeg_path = os.path.join(base_path, task, 'train', f\"{subject_id}\", str(session), 'EEGdata.csv')\n",
        "    eeg_data = pd.read_csv(eeg_path)\n",
        "\n",
        "    # Extract trial\n",
        "    start_idx = (trial_num - 1) * samples_per_trial\n",
        "    end_idx = start_idx + samples_per_trial\n",
        "    trial_data = eeg_data.iloc[start_idx:end_idx]\n",
        "\n",
        "\n",
        "    eeg_segment = trial_data[eeg_channels].values  # shape: (samples, 8)\n",
        "\n",
        "    X_train_MI_gyro.append(eeg_segment)\n",
        "\n",
        "# load validation data\n",
        "\n",
        "for i in tqdm(range(len(validation_df))):\n",
        "\n",
        "    row = validation_df.iloc[i]\n",
        "    task = row['task']\n",
        "    if task != 'MI':\n",
        "      continue\n",
        "    subject_id = row['subject_id']\n",
        "    session = row['trial_session']\n",
        "    trial_num = row['trial']\n",
        "\n",
        "    label = row['label']\n",
        "\n",
        "    samples_per_trial = 2250\n",
        "\n",
        "    eeg_path = os.path.join(base_path, task, 'validation', f\"{subject_id}\", str(session), 'EEGdata.csv')\n",
        "    eeg_data = pd.read_csv(eeg_path)\n",
        "\n",
        "    start_idx = (trial_num - 1) * samples_per_trial\n",
        "    end_idx = start_idx + samples_per_trial\n",
        "    trial_data = eeg_data.iloc[start_idx:end_idx]\n",
        "\n",
        "    eeg_segment = trial_data[eeg_channels].values\n",
        "\n",
        "    X_val_MI_gyro.append(eeg_segment)\n",
        "\n",
        "# load test data\n",
        "\n",
        "for i in tqdm(range(len(test_df))):\n",
        "\n",
        "    row = test_df.iloc[i]\n",
        "    task = row['task']\n",
        "    if task != 'MI':\n",
        "      continue\n",
        "    subject_id = row['subject_id']\n",
        "    session = row['trial_session']\n",
        "    trial_num = row['trial']\n",
        "    id_num = row['id']\n",
        "    # Choose number of samples per trial\n",
        "    samples_per_trial = 2250 if task == 'MI' else 1750\n",
        "\n",
        "    # Path to EEGdata.csv\n",
        "    eeg_path = os.path.join(base_path, task, 'test', f\"{subject_id}\", str(session), 'EEGdata.csv')\n",
        "    eeg_data = pd.read_csv(eeg_path)\n",
        "\n",
        "    # Extract trial\n",
        "    start_idx = (trial_num - 1) * samples_per_trial\n",
        "    end_idx = start_idx + samples_per_trial\n",
        "    trial_data = eeg_data.iloc[start_idx:end_idx]\n",
        "\n",
        "    eeg_segment = trial_data[eeg_channels].values  # shape: (samples, 5)\n",
        "\n",
        "    X_test_MI_gyro.append(eeg_segment)\n"
      ],
      "metadata": {
        "colab": {
          "base_uri": "https://localhost:8080/"
        },
        "id": "GRNMdZiY6dcR",
        "outputId": "91d9e72a-f30f-424d-a97d-64c1f62df7c7"
      },
      "execution_count": null,
      "outputs": [
        {
          "output_type": "stream",
          "name": "stderr",
          "text": [
            "100%|██████████| 4800/4800 [04:39<00:00, 17.17it/s]  \n",
            "100%|██████████| 100/100 [00:06<00:00, 15.45it/s]\n",
            "100%|██████████| 100/100 [00:05<00:00, 19.17it/s]\n"
          ]
        }
      ]
    },
    {
      "cell_type": "code",
      "source": [
        "X_train_MI1_gyro = np.array(X_train_MI_gyro)\n",
        "X_val_MI1_gyro = np.array(X_val_MI_gyro)\n",
        "X_test_MI1_gyro = np.array(X_test_MI_gyro)"
      ],
      "metadata": {
        "id": "R78Xk-_36pE1"
      },
      "execution_count": null,
      "outputs": []
    },
    {
      "cell_type": "code",
      "source": [
        "# save all the arrays\n",
        "# mi\n",
        "os.makedirs('/content/drive/MyDrive/mtc-aic', exist_ok=True)\n",
        "\n",
        "np.save('/content/drive/MyDrive/mtc-aic/X_train_MI.npy', X_train_MI)\n",
        "\n",
        "np.save('/content/drive/MyDrive/mtc-aic/X_val_MI.npy', X_val_MI)\n",
        "\n",
        "np.save('/content/drive/MyDrive/mtc-aic/X_test_MI.npy', X_test_MI)\n"
      ],
      "metadata": {
        "id": "Zd5R9WuKjVcU"
      },
      "execution_count": null,
      "outputs": []
    },
    {
      "cell_type": "code",
      "source": [
        "# save all the arrays\n",
        "# mi\n",
        "os.makedirs('/content/drive/MyDrive/mtc-aic', exist_ok=True)\n",
        "\n",
        "np.save('/content/drive/MyDrive/mtc-aic/X_train_MI_gyro.npy', X_train_MI1_gyro)\n",
        "\n",
        "np.save('/content/drive/MyDrive/mtc-aic/X_val_MI_gyro.npy', X_val_MI1_gyro)\n",
        "\n",
        "np.save('/content/drive/MyDrive/mtc-aic/X_test_MI_gyro.npy', X_test_MI1_gyro)\n"
      ],
      "metadata": {
        "id": "X51XnUxo6rsK",
        "colab": {
          "base_uri": "https://localhost:8080/",
          "height": 211
        },
        "outputId": "522b9232-df21-4955-b331-1a05301e3d88"
      },
      "execution_count": null,
      "outputs": [
        {
          "output_type": "error",
          "ename": "NameError",
          "evalue": "name 'X_train_MI1_gyro' is not defined",
          "traceback": [
            "\u001b[0;31m---------------------------------------------------------------------------\u001b[0m",
            "\u001b[0;31mNameError\u001b[0m                                 Traceback (most recent call last)",
            "\u001b[0;32m/tmp/ipython-input-4-3576218488.py\u001b[0m in \u001b[0;36m<cell line: 0>\u001b[0;34m()\u001b[0m\n\u001b[1;32m      3\u001b[0m \u001b[0mos\u001b[0m\u001b[0;34m.\u001b[0m\u001b[0mmakedirs\u001b[0m\u001b[0;34m(\u001b[0m\u001b[0;34m'/content/drive/MyDrive/mtc-aic'\u001b[0m\u001b[0;34m,\u001b[0m \u001b[0mexist_ok\u001b[0m\u001b[0;34m=\u001b[0m\u001b[0;32mTrue\u001b[0m\u001b[0;34m)\u001b[0m\u001b[0;34m\u001b[0m\u001b[0;34m\u001b[0m\u001b[0m\n\u001b[1;32m      4\u001b[0m \u001b[0;34m\u001b[0m\u001b[0m\n\u001b[0;32m----> 5\u001b[0;31m \u001b[0mnp\u001b[0m\u001b[0;34m.\u001b[0m\u001b[0msave\u001b[0m\u001b[0;34m(\u001b[0m\u001b[0;34m'/content/drive/MyDrive/mtc-aic/X_train_MI_gyro.npy'\u001b[0m\u001b[0;34m,\u001b[0m \u001b[0mX_train_MI1_gyro\u001b[0m\u001b[0;34m)\u001b[0m\u001b[0;34m\u001b[0m\u001b[0;34m\u001b[0m\u001b[0m\n\u001b[0m\u001b[1;32m      6\u001b[0m \u001b[0;34m\u001b[0m\u001b[0m\n\u001b[1;32m      7\u001b[0m \u001b[0mnp\u001b[0m\u001b[0;34m.\u001b[0m\u001b[0msave\u001b[0m\u001b[0;34m(\u001b[0m\u001b[0;34m'/content/drive/MyDrive/mtc-aic/X_val_MI_gyro.npy'\u001b[0m\u001b[0;34m,\u001b[0m \u001b[0mX_val_MI1_gyro\u001b[0m\u001b[0;34m)\u001b[0m\u001b[0;34m\u001b[0m\u001b[0;34m\u001b[0m\u001b[0m\n",
            "\u001b[0;31mNameError\u001b[0m: name 'X_train_MI1_gyro' is not defined"
          ]
        }
      ]
    },
    {
      "cell_type": "markdown",
      "source": [
        "### load from drive"
      ],
      "metadata": {
        "id": "eiZ7ccw2p6-R"
      }
    },
    {
      "cell_type": "code",
      "source": [
        "# Load the saved arrays\n",
        "\n",
        "import pandas as pd\n",
        "import numpy as np\n",
        "import os\n",
        "from tqdm import tqdm\n",
        "\n",
        "X_train_MI1_gyro = np.load('/content/drive/MyDrive/mtc-aic/X_train_MI_gyro.npy')\n",
        "\n",
        "X_val_MI1_gyro = np.load('/content/drive/MyDrive/mtc-aic/X_val_MI_gyro.npy')\n",
        "\n",
        "X_test_MI1_gyro = np.load('/content/drive/MyDrive/mtc-aic/X_test_MI_gyro.npy')\n",
        "\n",
        "print(\"Data loaded successfully.\")"
      ],
      "metadata": {
        "colab": {
          "base_uri": "https://localhost:8080/"
        },
        "id": "0vwtl2Bs6rqL",
        "outputId": "3869d5c4-158a-4365-c8f8-702fd244e0dd"
      },
      "execution_count": null,
      "outputs": [
        {
          "output_type": "stream",
          "name": "stdout",
          "text": [
            "Data loaded successfully.\n"
          ]
        }
      ]
    },
    {
      "cell_type": "code",
      "source": [
        "X_train_MI1 = np.load('/content/drive/MyDrive/mtc-aic/X_train_MI.npy')\n",
        "y_train_MI1 = np.load('/content/drive/MyDrive/mtc-aic/y_train_MI.npy')\n",
        "\n",
        "X_val_MI1 = np.load('/content/drive/MyDrive/mtc-aic/X_val_MI.npy')\n",
        "y_val_MI1 = np.load('/content/drive/MyDrive/mtc-aic/y_val_MI.npy')\n",
        "\n",
        "X_test_MI1 = np.load('/content/drive/MyDrive/mtc-aic/X_test_MI.npy')\n",
        "\n",
        "id_test_mi1 = np.arange(4901,4951)\n",
        "\n",
        "print(\"Data loaded successfully.\")"
      ],
      "metadata": {
        "colab": {
          "base_uri": "https://localhost:8080/"
        },
        "id": "NB0qWYz6PTI5",
        "outputId": "fdc53e6b-1887-4303-e17b-ff69c76f203a"
      },
      "execution_count": null,
      "outputs": [
        {
          "output_type": "stream",
          "name": "stdout",
          "text": [
            "Data loaded successfully.\n"
          ]
        }
      ]
    },
    {
      "cell_type": "code",
      "source": [
        "left_count = 0\n",
        "right_count = 0\n",
        "\n",
        "for label in y_train_MI1:\n",
        "    if label == 'Left':\n",
        "        left_count += 1\n",
        "    elif label == 'Right':\n",
        "        right_count += 1\n",
        "\n",
        "print(\"Left count:\", left_count)\n",
        "print(\"Right count:\", right_count)"
      ],
      "metadata": {
        "colab": {
          "base_uri": "https://localhost:8080/"
        },
        "id": "uCFTuDaSZBPT",
        "outputId": "a1122a1f-5207-40d5-94eb-ba298a10406a"
      },
      "execution_count": null,
      "outputs": [
        {
          "output_type": "stream",
          "name": "stdout",
          "text": [
            "Left count: 1187\n",
            "Right count: 1213\n"
          ]
        }
      ]
    },
    {
      "cell_type": "code",
      "source": [
        "import numpy as np\n",
        "from scipy.signal import butter, filtfilt, iirnotch, resample\n",
        "from scipy.stats import zscore\n",
        "from scipy.signal import decimate\n",
        "import numpy as np\n",
        "from scipy.signal import butter, filtfilt\n",
        "\n",
        "import pandas as pd\n",
        "import numpy as np\n",
        "import os\n",
        "from tqdm import tqdm\n",
        "\n",
        "from imblearn.over_sampling import SMOTE\n",
        "import numpy as np"
      ],
      "metadata": {
        "id": "aKsUhrTCZfDG"
      },
      "execution_count": null,
      "outputs": []
    },
    {
      "cell_type": "code",
      "source": [
        "# X=X_train_MI1\n",
        "# y=y_train_MI1\n",
        "\n",
        "# n_samples, n_timesteps, n_channels = X.shape\n",
        "# X_flat = X.reshape((n_samples, n_timesteps * n_channels))  # Shape: (1213, 6750)\n",
        "\n",
        "# sm = SMOTE(random_state=42)\n",
        "# X_resampled, y_resampled = sm.fit_resample(X_flat, y)\n",
        "\n",
        "# X_resampled = X_resampled.reshape((1213*2, n_timesteps, n_channels))  # Shape: (?, 2250, 3)\n",
        "\n",
        "# print(\"Original shape:\", X.shape)\n",
        "# print(\"Resampled shape:\", X_resampled.shape)\n",
        "# print(\"New label distribution:\", np.unique(y_resampled, return_counts=True))\n"
      ],
      "metadata": {
        "id": "1aryt3d0Y_xv"
      },
      "execution_count": null,
      "outputs": []
    },
    {
      "cell_type": "code",
      "source": [
        "X_train_MI1.shape\n",
        "X_train_MI1_gyro.shape"
      ],
      "metadata": {
        "id": "Q7RZgwVWZDyl",
        "colab": {
          "base_uri": "https://localhost:8080/"
        },
        "outputId": "59ac42ad-d242-454e-ab35-720449152fff"
      },
      "execution_count": null,
      "outputs": [
        {
          "output_type": "execute_result",
          "data": {
            "text/plain": [
              "(2400, 2250, 3)"
            ]
          },
          "metadata": {},
          "execution_count": 9
        }
      ]
    },
    {
      "cell_type": "markdown",
      "source": [
        "## EEG signal scaling"
      ],
      "metadata": {
        "id": "StU9PPEiqTSs"
      }
    },
    {
      "cell_type": "code",
      "source": [
        "X_train_MI1 = X_train_MI1 / 1000\n",
        "X_val_MI1 = X_val_MI1 / 1000\n",
        "X_test_MI1 = X_test_MI1 / 1000"
      ],
      "metadata": {
        "id": "jr8NntQqqWe8"
      },
      "execution_count": null,
      "outputs": []
    },
    {
      "cell_type": "markdown",
      "source": [
        "## gyroscope filtering"
      ],
      "metadata": {
        "id": "ZxGiWtgvqNdn"
      }
    },
    {
      "cell_type": "code",
      "source": [
        "# Extract gyroscope data\n",
        "gyro_data = X_train_MI1_gyro\n",
        "\n",
        "# Compute magnitude of gyroscope signal\n",
        "gyro_magnitude = np.linalg.norm(gyro_data, axis=-1)\n",
        "mean_magnitude_per_trial = np.mean(gyro_magnitude, axis=1)\n",
        "# Define a movement threshold (tune this based on data)\n",
        "threshold = 3.0  # adjust based on empirical inspection\n",
        "\n",
        "# Find indices with movement artifacts\n",
        "# artifact_indices = mean_magnitude_per_trial > threshold\n",
        "\n",
        "# Optional: visualize where artifacts occur\n",
        "import matplotlib.pyplot as plt\n",
        "plt.figure(figsize=(12, 4))\n",
        "plt.plot(mean_magnitude_per_trial, label='Gyro Magnitude')\n",
        "plt.axhline(threshold, color='r', linestyle='--', label='Threshold')\n",
        "plt.legend()\n",
        "plt.title(\"Gyroscope-based Artifact Detection\")\n",
        "plt.show()\n"
      ],
      "metadata": {
        "colab": {
          "base_uri": "https://localhost:8080/",
          "height": 391
        },
        "id": "nHiUbxstqR0f",
        "outputId": "d4a79208-cde5-4d80-b388-59f193ca378b"
      },
      "execution_count": null,
      "outputs": [
        {
          "output_type": "display_data",
          "data": {
            "text/plain": [
              "<Figure size 1200x400 with 1 Axes>"
            ],
            "image/png": "[encoded data removed]"
          },
          "metadata": {}
        }
      ]
    },
    {
      "cell_type": "code",
      "source": [
        "bad_trial_mask = mean_magnitude_per_trial > threshold  # Shape: (2400,)\n",
        "\n",
        "# Step 4: Invert mask to keep only clean trials\n",
        "good_trial_mask = ~bad_trial_mask\n",
        "\n",
        "# Step 5: Apply mask to EEG data\n",
        "clean_X_train_MI = X_train_MI1[good_trial_mask]\n",
        "clean_X_train_MI.shape"
      ],
      "metadata": {
        "colab": {
          "base_uri": "https://localhost:8080/"
        },
        "id": "cDYo_mTtsgq6",
        "outputId": "b73ec63b-4518-40fd-8128-ef98634bad15"
      },
      "execution_count": null,
      "outputs": [
        {
          "output_type": "execute_result",
          "data": {
            "text/plain": [
              "(1963, 2250, 8)"
            ]
          },
          "metadata": {},
          "execution_count": 12
        }
      ]
    },
    {
      "cell_type": "code",
      "source": [
        "clean_y_train_MI = y_train_MI1[good_trial_mask]"
      ],
      "metadata": {
        "id": "-PC58_uXyAa1"
      },
      "execution_count": null,
      "outputs": []
    },
    {
      "cell_type": "code",
      "source": [
        "import matplotlib.pyplot as plt\n",
        "plt.hist(mean_magnitude_per_trial, bins=50)\n",
        "plt.xlabel(\"Gyro Magnitude (°/s)\")\n",
        "plt.ylabel(\"Trial Count\")\n",
        "plt.title(\"Gyro Magnitude Distribution\")\n",
        "plt.show()"
      ],
      "metadata": {
        "colab": {
          "base_uri": "https://localhost:8080/",
          "height": 472
        },
        "id": "k3GIzGmvrhRo",
        "outputId": "99441a52-4fca-40a7-e79d-46057d89929d"
      },
      "execution_count": null,
      "outputs": [
        {
          "output_type": "display_data",
          "data": {
            "text/plain": [
              "<Figure size 640x480 with 1 Axes>"
            ],
            "image/png": "[encoded data removed]"
          },
          "metadata": {}
        }
      ]
    },
    {
      "cell_type": "code",
      "source": [],
      "metadata": {
        "id": "tf-IsqMnqQb7"
      },
      "execution_count": null,
      "outputs": []
    },
    {
      "cell_type": "markdown",
      "source": [
        "## Preprocessing"
      ],
      "metadata": {
        "id": "CdXZh8OWqKvr"
      }
    },
    {
      "cell_type": "code",
      "source": [
        "# eeg_channels = ['FZ', 'C3', 'CZ', 'C4', 'PZ', 'PO7', 'OZ', 'PO8']\n",
        "eeg_channels = ['C3', 'CZ', 'C4']\n",
        "# Gyro_channel_list = ['Gyro1', 'Gyro2', 'Gyro3']\n",
        "channel_indices = {ch: i for i, ch in enumerate(eeg_channels)}\n",
        "# Gyro_channel_indices = {ch2: i2 for i2, ch2 in enumerate(Gyro_channel_list)}\n",
        "# Approximate neighbors (for 8 channels only, manually set)\n",
        "# neighbors = {\n",
        "#     'FZ': ['C3', 'CZ', 'C4'],\n",
        "#     'C3': ['FZ', 'CZ', 'PZ'],\n",
        "#     'CZ': ['FZ', 'C3', 'C4', 'PZ'],\n",
        "#     'C4': ['FZ', 'CZ', 'PZ'],\n",
        "#     'PZ': ['C3', 'CZ', 'C4', 'OZ'],\n",
        "#     'PO7': ['PZ', 'OZ'],\n",
        "#     'OZ': ['PZ', 'PO7', 'PO8'],\n",
        "#     'PO8': ['PZ', 'OZ']\n",
        "# }\n",
        "neighbors = {\n",
        "    'C3': [ 'CZ'],\n",
        "    'CZ': [ 'C3', 'C4'],\n",
        "    'C4': ['CZ'],\n",
        "\n",
        "}"
      ],
      "metadata": {
        "id": "mSel7kuDZDvK"
      },
      "execution_count": null,
      "outputs": []
    },
    {
      "cell_type": "code",
      "source": [
        "\n",
        "def bandpass_filter(data, fs, lowcut, highcut, order=4):\n",
        "    nyq = 0.5 * fs\n",
        "    low = lowcut / nyq\n",
        "    high = highcut / nyq\n",
        "    b, a = butter(order, [low, high], btype='band')\n",
        "    return filtfilt(b, a, data, axis=0)\n",
        "\n",
        "def extract_specific_bands(trial_data, fs=250):\n",
        "\n",
        "    # bands = {\n",
        "    #     \"alpha\": (8, 12),\n",
        "    #     \"beta\": (16, 24),\n",
        "    #     \"low_gamma\": (30, 35)\n",
        "    # }\n",
        "\n",
        "    bands = {\n",
        "        \"band\": (4, 60),\n",
        "    }\n",
        "\n",
        "    # Apply band-pass for each band\n",
        "    filtered_bands = []\n",
        "    for name, (low, high) in bands.items():\n",
        "        band = bandpass_filter(trial_data, fs, low, high)\n",
        "        filtered_bands.append(band)\n",
        "\n",
        "    # Concatenate along channels: (samples, channels × 3)\n",
        "    return np.concatenate(filtered_bands, axis=1)\n",
        "\n",
        "# Function to apply surface Laplacian (spatial filtering)\n",
        "def apply_surface_laplacian(trial):\n",
        "    laplacian = np.copy(trial)\n",
        "    for ch_name, ch_idx in channel_indices.items():\n",
        "        neigh_idxs = [channel_indices[n] for n in neighbors.get(ch_name, [])]\n",
        "        if len(neigh_idxs) == 0:\n",
        "            continue\n",
        "        laplacian[:, ch_idx] = trial[:, ch_idx] - np.mean(trial[:, neigh_idxs], axis=1)\n",
        "    return laplacian\n",
        "\n",
        "\n",
        "\n",
        "#Normalization (Z-score)\n",
        "def normalize_trial(trial):\n",
        "    mean = np.mean(trial, axis=0)\n",
        "    std = np.std(trial, axis=0)\n",
        "    return (trial - mean) / (std + 1e-6)  # to avoid divide by zero\n"
      ],
      "metadata": {
        "id": "X7xrsnuYZDtA"
      },
      "execution_count": null,
      "outputs": []
    },
    {
      "cell_type": "code",
      "source": [
        "def preprocessingData(data):\n",
        "  processed = []\n",
        "  for trial in data:\n",
        "    # trial_processed=apply_notch(trial)\n",
        "    trial_processed=extract_specific_bands(trial)\n",
        "    # 4. Surface Laplacian\n",
        "    trial_processed = apply_surface_laplacian(trial_processed)\n",
        "    # downsample_factor=2\n",
        "    # downsampled = np.empty((2250 // downsample_factor, 8))\n",
        "    # for ch in range(trial.shape[1]):\n",
        "    #     downsampled[ :, ch] = decimate(trial_processed[ :, ch], downsample_factor, axis=0)\n",
        "    # trial_processed=normalize_trial(downsampled)\n",
        "    processed.append(trial_processed)\n",
        "  return np.array(processed)\n"
      ],
      "metadata": {
        "id": "EM0mFy_fZDq1"
      },
      "execution_count": null,
      "outputs": []
    },
    {
      "cell_type": "code",
      "source": [
        "\n",
        "print(\"Preprocessing MI training set...\")\n",
        "pre_X_train_MI = preprocessingData(clean_X_train_MI)\n",
        "\n",
        "print(\"Preprocessing MI validation set...\")\n",
        "pre_X_val_MI = preprocessingData(X_val_MI1)\n",
        "\n",
        "print(\"Preprocessing MI test set...\")\n",
        "pre_X_test_MI = preprocessingData(X_test_MI1)"
      ],
      "metadata": {
        "colab": {
          "base_uri": "https://localhost:8080/"
        },
        "id": "WC1q-4KZZDou",
        "outputId": "2164dab9-3660-4069-eb7c-ce6fce6df20f"
      },
      "execution_count": null,
      "outputs": [
        {
          "output_type": "stream",
          "name": "stdout",
          "text": [
            "Preprocessing MI training set...\n",
            "Preprocessing MI validation set...\n",
            "Preprocessing MI test set...\n"
          ]
        }
      ]
    },
    {
      "cell_type": "code",
      "source": [
        "pre_X_train_MI.shape"
      ],
      "metadata": {
        "colab": {
          "base_uri": "https://localhost:8080/"
        },
        "id": "cEi0BddOA3I6",
        "outputId": "1753648d-7195-4a28-fd81-887768bac00c"
      },
      "execution_count": null,
      "outputs": [
        {
          "output_type": "execute_result",
          "data": {
            "text/plain": [
              "(1963, 2250, 8)"
            ]
          },
          "metadata": {},
          "execution_count": 19
        }
      ]
    },
    {
      "cell_type": "markdown",
      "source": [
        "## Energy distribution for MI data"
      ],
      "metadata": {
        "id": "QBSkmJW-taEm"
      }
    },
    {
      "cell_type": "code",
      "source": [
        "import numpy as np\n",
        "from scipy.signal import butter, filtfilt\n",
        "import matplotlib.pyplot as plt\n",
        "\n",
        "# === SIMULATED EEG ===\n",
        "eeg_data = pre_X_train_MI\n",
        "# === PARAMETERS ===\n",
        "bands = {\n",
        "\"band\": (4, 60),\n",
        "}\n",
        "fs = 250  # Sampling frequency\n",
        "n_trials, n_samples, n_channels = eeg_data.shape\n",
        "\n",
        "# === BANDPASS FILTER FUNCTION ===\n",
        "def bandpass(data, low, high, fs, order=4):\n",
        "    b, a = butter(order, [low / (fs / 2), high / (fs / 2)], btype='band')\n",
        "    return filtfilt(b, a, data, axis=1)\n",
        "\n",
        "# === STEP 1: Apply filters and compute energy ===\n",
        "energy = np.zeros((len(bands), n_channels))\n",
        "band_names = list(bands.keys())\n",
        "\n",
        "for i, (band_name, (low, high)) in enumerate(bands.items()):\n",
        "    band_data = np.zeros_like(eeg_data)\n",
        "    for ch in range(n_channels):\n",
        "        band_data[:, :, ch] = bandpass(eeg_data[:, :, ch], low, high, fs)\n",
        "    energy[i] = np.sum(band_data**2, axis=(0, 1))  # Total energy per channel\n",
        "\n",
        "# === STEP 2: Plot ===\n",
        "plt.figure(figsize=(8, 5))\n",
        "plt.imshow(energy, aspect='auto', cmap='plasma')\n",
        "plt.colorbar(label='Total Energy')\n",
        "plt.xticks(np.arange(n_channels), labels=[f'Ch {i+1}' for i in range(n_channels)])\n",
        "plt.yticks(np.arange(len(bands)), labels=band_names)\n",
        "plt.xlabel('EEG Channels')\n",
        "plt.ylabel('Frequency Bands')\n",
        "plt.title('EEG Band Energy Distribution (Motor Imagery)')\n",
        "plt.tight_layout()\n",
        "plt.show()\n"
      ],
      "metadata": {
        "colab": {
          "base_uri": "https://localhost:8080/",
          "height": 507
        },
        "id": "VkqPqIjAthr6",
        "outputId": "38a594c6-6911-4171-a3b6-58d859c15e11"
      },
      "execution_count": null,
      "outputs": [
        {
          "output_type": "display_data",
          "data": {
            "text/plain": [
              "<Figure size 800x500 with 2 Axes>"
            ],
            "image/png": "[encoded data removed]"
          },
          "metadata": {}
        }
      ]
    },
    {
      "cell_type": "code",
      "source": [],
      "metadata": {
        "id": "FkLVaRkytZHb"
      },
      "execution_count": null,
      "outputs": []
    },
    {
      "cell_type": "markdown",
      "source": [
        "## select channels"
      ],
      "metadata": {
        "id": "FwJ2n7f2tffM"
      }
    },
    {
      "cell_type": "code",
      "source": [
        "channel_list = ['FZ', 'C3', 'CZ', 'C4', 'PZ', 'PO7', 'OZ', 'PO8']\n",
        "selected_channels = ['CZ']\n",
        "# selected_channels = [ 'CZ', 'PZ']"
      ],
      "metadata": {
        "id": "HqO90Eb75d5l"
      },
      "execution_count": null,
      "outputs": []
    },
    {
      "cell_type": "code",
      "source": [
        "channel_indices = [channel_list.index(ch) for ch in selected_channels]\n",
        "\n",
        "selected_indices = []\n",
        "for band_offset in range(1):  # α, β, γ\n",
        "    for idx in channel_indices:\n",
        "        selected_indices.append(idx + band_offset * len(channel_list))"
      ],
      "metadata": {
        "id": "qw0D41A15dzP"
      },
      "execution_count": null,
      "outputs": []
    },
    {
      "cell_type": "code",
      "source": [
        "pre_X_train_MI_selected_channels = pre_X_train_MI[:, :, selected_indices]\n",
        "pre_X_val_MI_selected_channels   = pre_X_val_MI[:, :, selected_indices]\n",
        "pre_X_test_MI_selected_channels = pre_X_test_MI[:, :, selected_indices]"
      ],
      "metadata": {
        "id": "3P4691h25dxT"
      },
      "execution_count": null,
      "outputs": []
    },
    {
      "cell_type": "code",
      "source": [
        "pre_X_train_MI_selected_channels.shape"
      ],
      "metadata": {
        "colab": {
          "base_uri": "https://localhost:8080/"
        },
        "id": "nrvQOPz3AqjQ",
        "outputId": "a0e57c4c-47c0-4ea4-ca57-51fe5d2ed4bd"
      },
      "execution_count": null,
      "outputs": [
        {
          "output_type": "execute_result",
          "data": {
            "text/plain": [
              "(1963, 2250, 1)"
            ]
          },
          "metadata": {},
          "execution_count": 24
        }
      ]
    },
    {
      "cell_type": "markdown",
      "source": [
        "## Feature extraction"
      ],
      "metadata": {
        "id": "f4Uo48mbxG0K"
      }
    },
    {
      "cell_type": "markdown",
      "source": [
        "### band power features"
      ],
      "metadata": {
        "id": "GudgjkE8xJ_j"
      }
    },
    {
      "cell_type": "code",
      "source": [
        "import numpy as np\n",
        "from scipy.signal import butter, filtfilt\n",
        "\n",
        "# === Band definitions ===\n",
        "bands = {\n",
        "    \"band\": (40,60),\n",
        "    # \"alpha\": (8, 12),\n",
        "    # \"beta\": (16, 30),\n",
        "    # # \"gamma\": (30, 35)\n",
        "}\n",
        "\n",
        "# === Bandpass filter ===\n",
        "def bandpass(data, low, high, fs, order=4):\n",
        "    nyq = 0.5 * fs\n",
        "    low /= nyq\n",
        "    high /= nyq\n",
        "    b, a = butter(order, [low, high], btype='band')\n",
        "    return filtfilt(b, a, data)\n",
        "\n",
        "# === Feature Extraction Function ===\n",
        "def extract_band_power_features(eeg_data, fs):\n",
        "    \"\"\"\n",
        "    eeg_data: np.array of shape (trials, samples, channels)\n",
        "    fs: sampling frequency\n",
        "    Returns: features of shape (trials, bands × channels)\n",
        "    \"\"\"\n",
        "    n_trials, n_samples, n_channels = eeg_data.shape\n",
        "    features = []\n",
        "\n",
        "    for trial in range(n_trials):\n",
        "        trial_features = []\n",
        "        for ch in range(n_channels):\n",
        "            signal = eeg_data[trial, :, ch]\n",
        "            for band_name, (low, high) in bands.items():\n",
        "                filtered = bandpass(signal, low, high, fs)\n",
        "                power = np.mean(filtered**2)  # band power = mean squared amplitude\n",
        "                trial_features.append(power)\n",
        "        features.append(trial_features)\n",
        "\n",
        "    return np.array(features)\n"
      ],
      "metadata": {
        "id": "kUwu-Pc4xRPA"
      },
      "execution_count": null,
      "outputs": []
    },
    {
      "cell_type": "code",
      "source": [
        "fs = 250  # or whatever your sampling rate is\n",
        "features = extract_band_power_features(eeg_data=pre_X_train_MI_selected_channels, fs=fs)\n",
        "print(features.shape)"
      ],
      "metadata": {
        "colab": {
          "base_uri": "https://localhost:8080/"
        },
        "id": "XuU3F1ENxk6n",
        "outputId": "d57c0a2e-9101-4641-af8b-d01d47095c54"
      },
      "execution_count": null,
      "outputs": [
        {
          "output_type": "stream",
          "name": "stdout",
          "text": [
            "(1963, 1)\n"
          ]
        }
      ]
    },
    {
      "cell_type": "code",
      "source": [
        "features_val = extract_band_power_features(eeg_data=pre_X_val_MI_selected_channels, fs=fs)\n"
      ],
      "metadata": {
        "id": "g3CaSDS7xxVf"
      },
      "execution_count": null,
      "outputs": []
    },
    {
      "cell_type": "code",
      "source": [
        "features_test = extract_band_power_features(eeg_data=pre_X_test_MI_selected_channels, fs=fs)"
      ],
      "metadata": {
        "id": "tq2E9D6NBEji"
      },
      "execution_count": null,
      "outputs": []
    },
    {
      "cell_type": "markdown",
      "source": [
        "### Features"
      ],
      "metadata": {
        "id": "0Pd8QWShi4Av"
      }
    },
    {
      "cell_type": "code",
      "source": [
        "import numpy as np\n",
        "import scipy.stats as stats\n",
        "from scipy.signal import welch\n",
        "import pywt\n",
        "\n",
        "# === Simulated smaller dataset for testing ===\n",
        "n_trials, n_samples, n_channels = pre_X_val_MI_selected_channels.shape\n",
        "eeg_data = pre_X_val_MI_selected_channels\n",
        "# gyro_data = np.random.randn(n_trials, n_samples, 3)\n",
        "\n",
        "# === Statistical Features: mean, std, skewness, kurtosis ===\n",
        "def extract_statistical_features(data):\n",
        "    mean = np.mean(data, axis=1)\n",
        "    std = np.std(data, axis=1)\n",
        "    skew = stats.skew(data, axis=1)\n",
        "    kurt = stats.kurtosis(data, axis=1)\n",
        "    return np.concatenate([mean, std, skew, kurt], axis=1)\n",
        "\n",
        "\n",
        "# # === Wavelet Energy Features ===\n",
        "def extract_wavelet_energy(data, wavelet='db4', level=3):\n",
        "    features = []\n",
        "    for trial in data:\n",
        "        trial_feats = []\n",
        "        for ch in range(trial.shape[1]):\n",
        "            coeffs = pywt.wavedec(trial[:, ch], wavelet, level=level)\n",
        "            energies = [np.sum(c ** 2) for c in coeffs]\n",
        "            trial_feats.extend(energies)\n",
        "        features.append(trial_feats)\n",
        "    return np.array(features)\n",
        "\n",
        "\n",
        "# === Combine All Features ===\n",
        "n_trials, n_samples, n_channels = pre_X_train_MI_selected_channels.shape\n",
        "eeg_data = pre_X_train_MI_selected_channels\n",
        "\n",
        "wavelet_feats = extract_wavelet_energy(eeg_data)\n",
        "features=[]\n",
        "features = np.concatenate([wavelet_feats], axis=1)#, fft_feats, wavelet_feats, ratio_feats, gyro_feats\n",
        "\n",
        "n_trials, n_samples, n_channels = pre_X_val_MI_selected_channels.shape\n",
        "val_data = pre_X_val_MI_selected_channels\n",
        "\n",
        "wavelet_feats = extract_wavelet_energy(pre_X_test_MI_selected_channels)\n",
        "features_val=[]\n",
        "features_val = np.concatenate([wavelet_feats], axis=1)#, fft_feats, wavelet_feats, ratio_feats, gyro_feats\n",
        "print(\"Final feature shape:\", features.shape)\n"
      ],
      "metadata": {
        "colab": {
          "base_uri": "https://localhost:8080/"
        },
        "id": "tlHpLdGRi7qA",
        "outputId": "c4009eaa-7e85-4804-f035-6374c95eed0b"
      },
      "execution_count": null,
      "outputs": [
        {
          "output_type": "stream",
          "name": "stdout",
          "text": [
            "Final feature shape: (1963, 4)\n"
          ]
        }
      ]
    },
    {
      "cell_type": "code",
      "source": [
        "wavelet_feats = extract_wavelet_energy(pre_X_test_MI_selected_channels)\n",
        "# ratio_feats = extract_band_ratio(eeg_data)\n",
        "features_val=[]\n",
        "features_val = np.concatenate([wavelet_feats], axis=1)#, fft_feats, wavelet_feats, ratio_feats, gyro_feats\n",
        "print(\"Final feature shape:\", features.shape)\n"
      ],
      "metadata": {
        "id": "UaCkbYlDi3aW",
        "colab": {
          "base_uri": "https://localhost:8080/"
        },
        "outputId": "4a810b93-45ba-401e-9bea-841daed30d3a"
      },
      "execution_count": null,
      "outputs": [
        {
          "output_type": "stream",
          "name": "stdout",
          "text": [
            "Final feature shape: (1963, 4)\n"
          ]
        }
      ]
    },
    {
      "cell_type": "markdown",
      "source": [
        "## Models"
      ],
      "metadata": {
        "id": "kQvcdbEtviOP"
      }
    },
    {
      "cell_type": "code",
      "source": [
        "from sklearn.preprocessing import LabelEncoder\n",
        "\n",
        "le = LabelEncoder()\n",
        "yTrainMI_encoded = le.fit_transform(clean_y_train_MI)\n",
        "yValMI_encoded = le.fit_transform(y_val_MI1)"
      ],
      "metadata": {
        "id": "F-aTrlPGLvsG"
      },
      "execution_count": null,
      "outputs": []
    },
    {
      "cell_type": "code",
      "source": [
        "from sklearn.model_selection import train_test_split\n",
        "from sklearn.preprocessing import StandardScaler\n",
        "from sklearn.decomposition import PCA\n",
        "from sklearn.svm import SVC\n",
        "from sklearn.metrics import accuracy_score, classification_report\n"
      ],
      "metadata": {
        "id": "i1VMQQHByiod"
      },
      "execution_count": null,
      "outputs": []
    },
    {
      "cell_type": "markdown",
      "source": [
        "### LazyClassifier"
      ],
      "metadata": {
        "id": "QjL05YO8y99K"
      }
    },
    {
      "cell_type": "code",
      "source": [
        "!pip install lazypredict\n"
      ],
      "metadata": {
        "id": "qg_Q4Q0IzfdJ",
        "colab": {
          "base_uri": "https://localhost:8080/"
        },
        "outputId": "09a1efa3-e8c4-4e1e-c6f3-d7a4050286b0"
      },
      "execution_count": null,
      "outputs": [
        {
          "output_type": "stream",
          "name": "stdout",
          "text": [
            "Collecting lazypredict\n",
            "  Downloading lazypredict-0.2.16-py2.py3-none-any.whl.metadata (13 kB)\n",
            "Requirement already satisfied: click in /usr/local/lib/python3.11/dist-packages (from lazypredict) (8.2.1)\n",
            "Requirement already satisfied: scikit-learn in /usr/local/lib/python3.11/dist-packages (from lazypredict) (1.6.1)\n",
            "Requirement already satisfied: pandas in /usr/local/lib/python3.11/dist-packages (from lazypredict) (2.2.2)\n",
            "Requirement already satisfied: tqdm in /usr/local/lib/python3.11/dist-packages (from lazypredict) (4.67.1)\n",
            "Requirement already satisfied: joblib in /usr/local/lib/python3.11/dist-packages (from lazypredict) (1.5.1)\n",
            "Requirement already satisfied: lightgbm in /usr/local/lib/python3.11/dist-packages (from lazypredict) (4.5.0)\n",
            "Requirement already satisfied: xgboost in /usr/local/lib/python3.11/dist-packages (from lazypredict) (2.1.4)\n",
            "Collecting pytest-runner (from lazypredict)\n",
            "  Downloading pytest_runner-6.0.1-py3-none-any.whl.metadata (7.3 kB)\n",
            "Collecting mlflow>=2.0.0 (from lazypredict)\n",
            "  Downloading mlflow-3.1.1-py3-none-any.whl.metadata (29 kB)\n",
            "Collecting mlflow-skinny==3.1.1 (from mlflow>=2.0.0->lazypredict)\n",
            "  Downloading mlflow_skinny-3.1.1-py3-none-any.whl.metadata (30 kB)\n",
            "Requirement already satisfied: Flask<4 in /usr/local/lib/python3.11/dist-packages (from mlflow>=2.0.0->lazypredict) (3.1.1)\n",
            "Collecting alembic!=1.10.0,<2 (from mlflow>=2.0.0->lazypredict)\n",
            "  Downloading alembic-1.16.2-py3-none-any.whl.metadata (7.3 kB)\n",
            "Collecting docker<8,>=4.0.0 (from mlflow>=2.0.0->lazypredict)\n",
            "  Downloading docker-7.1.0-py3-none-any.whl.metadata (3.8 kB)\n",
            "Collecting graphene<4 (from mlflow>=2.0.0->lazypredict)\n",
            "  Downloading graphene-3.4.3-py2.py3-none-any.whl.metadata (6.9 kB)\n",
            "Collecting gunicorn<24 (from mlflow>=2.0.0->lazypredict)\n",
            "  Downloading gunicorn-23.0.0-py3-none-any.whl.metadata (4.4 kB)\n",
            "Requirement already satisfied: matplotlib<4 in /usr/local/lib/python3.11/dist-packages (from mlflow>=2.0.0->lazypredict) (3.10.0)\n",
            "Requirement already satisfied: numpy<3 in /usr/local/lib/python3.11/dist-packages (from mlflow>=2.0.0->lazypredict) (2.0.2)\n",
            "Requirement already satisfied: pyarrow<21,>=4.0.0 in /usr/local/lib/python3.11/dist-packages (from mlflow>=2.0.0->lazypredict) (18.1.0)\n",
            "Requirement already satisfied: scipy<2 in /usr/local/lib/python3.11/dist-packages (from mlflow>=2.0.0->lazypredict) (1.15.3)\n",
            "Requirement already satisfied: sqlalchemy<3,>=1.4.0 in /usr/local/lib/python3.11/dist-packages (from mlflow>=2.0.0->lazypredict) (2.0.41)\n",
            "Requirement already satisfied: cachetools<7,>=5.0.0 in /usr/local/lib/python3.11/dist-packages (from mlflow-skinny==3.1.1->mlflow>=2.0.0->lazypredict) (5.5.2)\n",
            "Requirement already satisfied: cloudpickle<4 in /usr/local/lib/python3.11/dist-packages (from mlflow-skinny==3.1.1->mlflow>=2.0.0->lazypredict) (3.1.1)\n",
            "Collecting databricks-sdk<1,>=0.20.0 (from mlflow-skinny==3.1.1->mlflow>=2.0.0->lazypredict)\n",
            "  Downloading databricks_sdk-0.57.0-py3-none-any.whl.metadata (39 kB)\n",
            "Requirement already satisfied: fastapi<1 in /usr/local/lib/python3.11/dist-packages (from mlflow-skinny==3.1.1->mlflow>=2.0.0->lazypredict) (0.115.13)\n",
            "Requirement already satisfied: gitpython<4,>=3.1.9 in /usr/local/lib/python3.11/dist-packages (from mlflow-skinny==3.1.1->mlflow>=2.0.0->lazypredict) (3.1.44)\n",
            "Requirement already satisfied: importlib_metadata!=4.7.0,<9,>=3.7.0 in /usr/local/lib/python3.11/dist-packages (from mlflow-skinny==3.1.1->mlflow>=2.0.0->lazypredict) (8.7.0)\n",
            "Collecting opentelemetry-api<3,>=1.9.0 (from mlflow-skinny==3.1.1->mlflow>=2.0.0->lazypredict)\n",
            "  Downloading opentelemetry_api-1.34.1-py3-none-any.whl.metadata (1.5 kB)\n",
            "Collecting opentelemetry-sdk<3,>=1.9.0 (from mlflow-skinny==3.1.1->mlflow>=2.0.0->lazypredict)\n",
            "  Downloading opentelemetry_sdk-1.34.1-py3-none-any.whl.metadata (1.6 kB)\n",
            "Requirement already satisfied: packaging<26 in /usr/local/lib/python3.11/dist-packages (from mlflow-skinny==3.1.1->mlflow>=2.0.0->lazypredict) (24.2)\n",
            "Requirement already satisfied: protobuf<7,>=3.12.0 in /usr/local/lib/python3.11/dist-packages (from mlflow-skinny==3.1.1->mlflow>=2.0.0->lazypredict) (5.29.5)\n",
            "Requirement already satisfied: pydantic<3,>=1.10.8 in /usr/local/lib/python3.11/dist-packages (from mlflow-skinny==3.1.1->mlflow>=2.0.0->lazypredict) (2.11.7)\n",
            "Requirement already satisfied: pyyaml<7,>=5.1 in /usr/local/lib/python3.11/dist-packages (from mlflow-skinny==3.1.1->mlflow>=2.0.0->lazypredict) (6.0.2)\n",
            "Requirement already satisfied: requests<3,>=2.17.3 in /usr/local/lib/python3.11/dist-packages (from mlflow-skinny==3.1.1->mlflow>=2.0.0->lazypredict) (2.32.3)\n",
            "Requirement already satisfied: sqlparse<1,>=0.4.0 in /usr/local/lib/python3.11/dist-packages (from mlflow-skinny==3.1.1->mlflow>=2.0.0->lazypredict) (0.5.3)\n",
            "Requirement already satisfied: typing-extensions<5,>=4.0.0 in /usr/local/lib/python3.11/dist-packages (from mlflow-skinny==3.1.1->mlflow>=2.0.0->lazypredict) (4.14.0)\n",
            "Requirement already satisfied: uvicorn<1 in /usr/local/lib/python3.11/dist-packages (from mlflow-skinny==3.1.1->mlflow>=2.0.0->lazypredict) (0.34.3)\n",
            "Requirement already satisfied: python-dateutil>=2.8.2 in /usr/local/lib/python3.11/dist-packages (from pandas->lazypredict) (2.9.0.post0)\n",
            "Requirement already satisfied: pytz>=2020.1 in /usr/local/lib/python3.11/dist-packages (from pandas->lazypredict) (2025.2)\n",
            "Requirement already satisfied: tzdata>=2022.7 in /usr/local/lib/python3.11/dist-packages (from pandas->lazypredict) (2025.2)\n",
            "Requirement already satisfied: threadpoolctl>=3.1.0 in /usr/local/lib/python3.11/dist-packages (from scikit-learn->lazypredict) (3.6.0)\n",
            "Requirement already satisfied: nvidia-nccl-cu12 in /usr/local/lib/python3.11/dist-packages (from xgboost->lazypredict) (2.21.5)\n",
            "Requirement already satisfied: Mako in /usr/lib/python3/dist-packages (from alembic!=1.10.0,<2->mlflow>=2.0.0->lazypredict) (1.1.3)\n",
            "Requirement already satisfied: urllib3>=1.26.0 in /usr/local/lib/python3.11/dist-packages (from docker<8,>=4.0.0->mlflow>=2.0.0->lazypredict) (2.4.0)\n",
            "Requirement already satisfied: blinker>=1.9.0 in /usr/local/lib/python3.11/dist-packages (from Flask<4->mlflow>=2.0.0->lazypredict) (1.9.0)\n",
            "Requirement already satisfied: itsdangerous>=2.2.0 in /usr/local/lib/python3.11/dist-packages (from Flask<4->mlflow>=2.0.0->lazypredict) (2.2.0)\n",
            "Requirement already satisfied: jinja2>=3.1.2 in /usr/local/lib/python3.11/dist-packages (from Flask<4->mlflow>=2.0.0->lazypredict) (3.1.6)\n",
            "Requirement already satisfied: markupsafe>=2.1.1 in /usr/local/lib/python3.11/dist-packages (from Flask<4->mlflow>=2.0.0->lazypredict) (3.0.2)\n",
            "Requirement already satisfied: werkzeug>=3.1.0 in /usr/local/lib/python3.11/dist-packages (from Flask<4->mlflow>=2.0.0->lazypredict) (3.1.3)\n",
            "Collecting graphql-core<3.3,>=3.1 (from graphene<4->mlflow>=2.0.0->lazypredict)\n",
            "  Downloading graphql_core-3.2.6-py3-none-any.whl.metadata (11 kB)\n",
            "Collecting graphql-relay<3.3,>=3.1 (from graphene<4->mlflow>=2.0.0->lazypredict)\n",
            "  Downloading graphql_relay-3.2.0-py3-none-any.whl.metadata (12 kB)\n",
            "Requirement already satisfied: contourpy>=1.0.1 in /usr/local/lib/python3.11/dist-packages (from matplotlib<4->mlflow>=2.0.0->lazypredict) (1.3.2)\n",
            "Requirement already satisfied: cycler>=0.10 in /usr/local/lib/python3.11/dist-packages (from matplotlib<4->mlflow>=2.0.0->lazypredict) (0.12.1)\n",
            "Requirement already satisfied: fonttools>=4.22.0 in /usr/local/lib/python3.11/dist-packages (from matplotlib<4->mlflow>=2.0.0->lazypredict) (4.58.4)\n",
            "Requirement already satisfied: kiwisolver>=1.3.1 in /usr/local/lib/python3.11/dist-packages (from matplotlib<4->mlflow>=2.0.0->lazypredict) (1.4.8)\n",
            "Requirement already satisfied: pillow>=8 in /usr/local/lib/python3.11/dist-packages (from matplotlib<4->mlflow>=2.0.0->lazypredict) (11.2.1)\n",
            "Requirement already satisfied: pyparsing>=2.3.1 in /usr/local/lib/python3.11/dist-packages (from matplotlib<4->mlflow>=2.0.0->lazypredict) (3.2.3)\n",
            "Requirement already satisfied: six>=1.5 in /usr/local/lib/python3.11/dist-packages (from python-dateutil>=2.8.2->pandas->lazypredict) (1.17.0)\n",
            "Requirement already satisfied: greenlet>=1 in /usr/local/lib/python3.11/dist-packages (from sqlalchemy<3,>=1.4.0->mlflow>=2.0.0->lazypredict) (3.2.3)\n",
            "Requirement already satisfied: google-auth~=2.0 in /usr/local/lib/python3.11/dist-packages (from databricks-sdk<1,>=0.20.0->mlflow-skinny==3.1.1->mlflow>=2.0.0->lazypredict) (2.38.0)\n",
            "Requirement already satisfied: starlette<0.47.0,>=0.40.0 in /usr/local/lib/python3.11/dist-packages (from fastapi<1->mlflow-skinny==3.1.1->mlflow>=2.0.0->lazypredict) (0.46.2)\n",
            "Requirement already satisfied: gitdb<5,>=4.0.1 in /usr/local/lib/python3.11/dist-packages (from gitpython<4,>=3.1.9->mlflow-skinny==3.1.1->mlflow>=2.0.0->lazypredict) (4.0.12)\n",
            "Requirement already satisfied: zipp>=3.20 in /usr/local/lib/python3.11/dist-packages (from importlib_metadata!=4.7.0,<9,>=3.7.0->mlflow-skinny==3.1.1->mlflow>=2.0.0->lazypredict) (3.23.0)\n",
            "Collecting opentelemetry-semantic-conventions==0.55b1 (from opentelemetry-sdk<3,>=1.9.0->mlflow-skinny==3.1.1->mlflow>=2.0.0->lazypredict)\n",
            "  Downloading opentelemetry_semantic_conventions-0.55b1-py3-none-any.whl.metadata (2.5 kB)\n",
            "Requirement already satisfied: annotated-types>=0.6.0 in /usr/local/lib/python3.11/dist-packages (from pydantic<3,>=1.10.8->mlflow-skinny==3.1.1->mlflow>=2.0.0->lazypredict) (0.7.0)\n",
            "Requirement already satisfied: pydantic-core==2.33.2 in /usr/local/lib/python3.11/dist-packages (from pydantic<3,>=1.10.8->mlflow-skinny==3.1.1->mlflow>=2.0.0->lazypredict) (2.33.2)\n",
            "Requirement already satisfied: typing-inspection>=0.4.0 in /usr/local/lib/python3.11/dist-packages (from pydantic<3,>=1.10.8->mlflow-skinny==3.1.1->mlflow>=2.0.0->lazypredict) (0.4.1)\n",
            "Requirement already satisfied: charset-normalizer<4,>=2 in /usr/local/lib/python3.11/dist-packages (from requests<3,>=2.17.3->mlflow-skinny==3.1.1->mlflow>=2.0.0->lazypredict) (3.4.2)\n",
            "Requirement already satisfied: idna<4,>=2.5 in /usr/local/lib/python3.11/dist-packages (from requests<3,>=2.17.3->mlflow-skinny==3.1.1->mlflow>=2.0.0->lazypredict) (3.10)\n",
            "Requirement already satisfied: certifi>=2017.4.17 in /usr/local/lib/python3.11/dist-packages (from requests<3,>=2.17.3->mlflow-skinny==3.1.1->mlflow>=2.0.0->lazypredict) (2025.6.15)\n",
            "Requirement already satisfied: h11>=0.8 in /usr/local/lib/python3.11/dist-packages (from uvicorn<1->mlflow-skinny==3.1.1->mlflow>=2.0.0->lazypredict) (0.16.0)\n",
            "Requirement already satisfied: smmap<6,>=3.0.1 in /usr/local/lib/python3.11/dist-packages (from gitdb<5,>=4.0.1->gitpython<4,>=3.1.9->mlflow-skinny==3.1.1->mlflow>=2.0.0->lazypredict) (5.0.2)\n",
            "Requirement already satisfied: pyasn1-modules>=0.2.1 in /usr/local/lib/python3.11/dist-packages (from google-auth~=2.0->databricks-sdk<1,>=0.20.0->mlflow-skinny==3.1.1->mlflow>=2.0.0->lazypredict) (0.4.2)\n",
            "Requirement already satisfied: rsa<5,>=3.1.4 in /usr/local/lib/python3.11/dist-packages (from google-auth~=2.0->databricks-sdk<1,>=0.20.0->mlflow-skinny==3.1.1->mlflow>=2.0.0->lazypredict) (4.9.1)\n",
            "Requirement already satisfied: anyio<5,>=3.6.2 in /usr/local/lib/python3.11/dist-packages (from starlette<0.47.0,>=0.40.0->fastapi<1->mlflow-skinny==3.1.1->mlflow>=2.0.0->lazypredict) (4.9.0)\n",
            "Requirement already satisfied: sniffio>=1.1 in /usr/local/lib/python3.11/dist-packages (from anyio<5,>=3.6.2->starlette<0.47.0,>=0.40.0->fastapi<1->mlflow-skinny==3.1.1->mlflow>=2.0.0->lazypredict) (1.3.1)\n",
            "Requirement already satisfied: pyasn1<0.7.0,>=0.6.1 in /usr/local/lib/python3.11/dist-packages (from pyasn1-modules>=0.2.1->google-auth~=2.0->databricks-sdk<1,>=0.20.0->mlflow-skinny==3.1.1->mlflow>=2.0.0->lazypredict) (0.6.1)\n",
            "Downloading lazypredict-0.2.16-py2.py3-none-any.whl (14 kB)\n",
            "Downloading mlflow-3.1.1-py3-none-any.whl (24.7 MB)\n",
            "\u001b[2K   \u001b[90m━━━━━━━━━━━━━━━━━━━━━━━━━━━━━━━━━━━━━━━━\u001b[0m \u001b[32m24.7/24.7 MB\u001b[0m \u001b[31m24.2 MB/s\u001b[0m eta \u001b[36m0:00:00\u001b[0m\n",
            "\u001b[?25hDownloading mlflow_skinny-3.1.1-py3-none-any.whl (1.9 MB)\n",
            "\u001b[2K   \u001b[90m━━━━━━━━━━━━━━━━━━━━━━━━━━━━━━━━━━━━━━━━\u001b[0m \u001b[32m1.9/1.9 MB\u001b[0m \u001b[31m37.1 MB/s\u001b[0m eta \u001b[36m0:00:00\u001b[0m\n",
            "\u001b[?25hDownloading pytest_runner-6.0.1-py3-none-any.whl (7.2 kB)\n",
            "Downloading alembic-1.16.2-py3-none-any.whl (242 kB)\n",
            "\u001b[2K   \u001b[90m━━━━━━━━━━━━━━━━━━━━━━━━━━━━━━━━━━━━━━━━\u001b[0m \u001b[32m242.7/242.7 kB\u001b[0m \u001b[31m9.8 MB/s\u001b[0m eta \u001b[36m0:00:00\u001b[0m\n",
            "\u001b[?25hDownloading docker-7.1.0-py3-none-any.whl (147 kB)\n",
            "\u001b[2K   \u001b[90m━━━━━━━━━━━━━━━━━━━━━━━━━━━━━━━━━━━━━━━━\u001b[0m \u001b[32m147.8/147.8 kB\u001b[0m \u001b[31m7.9 MB/s\u001b[0m eta \u001b[36m0:00:00\u001b[0m\n",
            "\u001b[?25hDownloading graphene-3.4.3-py2.py3-none-any.whl (114 kB)\n",
            "\u001b[2K   \u001b[90m━━━━━━━━━━━━━━━━━━━━━━━━━━━━━━━━━━━━━━━━\u001b[0m \u001b[32m114.9/114.9 kB\u001b[0m \u001b[31m5.5 MB/s\u001b[0m eta \u001b[36m0:00:00\u001b[0m\n",
            "\u001b[?25hDownloading gunicorn-23.0.0-py3-none-any.whl (85 kB)\n",
            "\u001b[2K   \u001b[90m━━━━━━━━━━━━━━━━━━━━━━━━━━━━━━━━━━━━━━━━\u001b[0m \u001b[32m85.0/85.0 kB\u001b[0m \u001b[31m4.9 MB/s\u001b[0m eta \u001b[36m0:00:00\u001b[0m\n",
            "\u001b[?25hDownloading databricks_sdk-0.57.0-py3-none-any.whl (733 kB)\n",
            "\u001b[2K   \u001b[90m━━━━━━━━━━━━━━━━━━━━━━━━━━━━━━━━━━━━━━━━\u001b[0m \u001b[32m733.8/733.8 kB\u001b[0m \u001b[31m27.7 MB/s\u001b[0m eta \u001b[36m0:00:00\u001b[0m\n",
            "\u001b[?25hDownloading graphql_core-3.2.6-py3-none-any.whl (203 kB)\n",
            "\u001b[2K   \u001b[90m━━━━━━━━━━━━━━━━━━━━━━━━━━━━━━━━━━━━━━━━\u001b[0m \u001b[32m203.4/203.4 kB\u001b[0m \u001b[31m9.7 MB/s\u001b[0m eta \u001b[36m0:00:00\u001b[0m\n",
            "\u001b[?25hDownloading graphql_relay-3.2.0-py3-none-any.whl (16 kB)\n",
            "Downloading opentelemetry_api-1.34.1-py3-none-any.whl (65 kB)\n",
            "\u001b[2K   \u001b[90m━━━━━━━━━━━━━━━━━━━━━━━━━━━━━━━━━━━━━━━━\u001b[0m \u001b[32m65.8/65.8 kB\u001b[0m \u001b[31m2.0 MB/s\u001b[0m eta \u001b[36m0:00:00\u001b[0m\n",
            "\u001b[?25hDownloading opentelemetry_sdk-1.34.1-py3-none-any.whl (118 kB)\n",
            "\u001b[2K   \u001b[90m━━━━━━━━━━━━━━━━━━━━━━━━━━━━━━━━━━━━━━━━\u001b[0m \u001b[32m118.5/118.5 kB\u001b[0m \u001b[31m3.0 MB/s\u001b[0m eta \u001b[36m0:00:00\u001b[0m\n",
            "\u001b[?25hDownloading opentelemetry_semantic_conventions-0.55b1-py3-none-any.whl (196 kB)\n",
            "\u001b[2K   \u001b[90m━━━━━━━━━━━━━━━━━━━━━━━━━━━━━━━━━━━━━━━━\u001b[0m \u001b[32m196.2/196.2 kB\u001b[0m \u001b[31m10.2 MB/s\u001b[0m eta \u001b[36m0:00:00\u001b[0m\n",
            "\u001b[?25hInstalling collected packages: pytest-runner, gunicorn, graphql-core, opentelemetry-api, graphql-relay, docker, alembic, opentelemetry-semantic-conventions, graphene, databricks-sdk, opentelemetry-sdk, mlflow-skinny, mlflow, lazypredict\n",
            "Successfully installed alembic-1.16.2 databricks-sdk-0.57.0 docker-7.1.0 graphene-3.4.3 graphql-core-3.2.6 graphql-relay-3.2.0 gunicorn-23.0.0 lazypredict-0.2.16 mlflow-3.1.1 mlflow-skinny-3.1.1 opentelemetry-api-1.34.1 opentelemetry-sdk-1.34.1 opentelemetry-semantic-conventions-0.55b1 pytest-runner-6.0.1\n"
          ]
        }
      ]
    },
    {
      "cell_type": "code",
      "source": [
        "from lazypredict.Supervised import LazyClassifier\n",
        "from sklearn.model_selection import train_test_split\n",
        "from sklearn.metrics import accuracy_score\n",
        "\n",
        "# Split the features and labels\n",
        "# X_train, X_test, y_train, y_test = train_test_split(features, yTrainMI_encoded, test_size=0.1, random_state=42)\n",
        "\n",
        "# Run LazyClassifier\n",
        "clf = LazyClassifier(verbose=0, ignore_warnings=True, custom_metric=None)\n",
        "models, predictions = clf.fit(features, features_val, yTrainMI_encoded, yValMI_encoded)\n",
        "# models, predictions = clf.fit(X_train, X_test, y_train, y_test)\n",
        "\n",
        "sorted_models = models.sort_values(by=\"Accuracy\", ascending=False)\n",
        "# Show results\n",
        "print(sorted_models)\n"
      ],
      "metadata": {
        "colab": {
          "base_uri": "https://localhost:8080/",
          "height": 1000,
          "referenced_widgets": [
            "69d231aa264a4ef7843a8e7ec80fe8e5",
            "18563f9ea6ea434a83ee8d47cd5beb44",
            "55bda6845f524ba1b2832c03fbfbc675",
            "2a9e2f28273a40d7b530273da8c1478e",
            "f6773abf23b64d5dae21588731a963bc",
            "a276714229494a879f65eda97acd7ce2",
            "0b56d28696814452a23bc6b58c9f9bc3",
            "7bb93b307912454394f1bdec00c48bd9",
            "4f292902db1a4892a0ae0ab36a85a8f0",
            "87ea502f02164324bd02f1c070a9568f",
            "0f8ad2ba8c4443938145d59271161d1b"
          ]
        },
        "id": "Fwz4dBKuzBbW",
        "outputId": "c34203ff-3ea8-4820-b61e-7a656df44851"
      },
      "execution_count": null,
      "outputs": [
        {
          "output_type": "display_data",
          "data": {
            "text/plain": [
              "  0%|          | 0/32 [00:00<?, ?it/s]"
            ],
            "application/vnd.jupyter.widget-view+json": {
              "version_major": 2,
              "version_minor": 0,
              "model_id": "69d231aa264a4ef7843a8e7ec80fe8e5"
            }
          },
          "metadata": {}
        },
        {
          "output_type": "stream",
          "name": "stdout",
          "text": [
            "[LightGBM] [Info] Number of positive: 978, number of negative: 985\n",
            "[LightGBM] [Info] Auto-choosing col-wise multi-threading, the overhead of testing was 0.000891 seconds.\n",
            "You can set `force_col_wise=true` to remove the overhead.\n",
            "[LightGBM] [Info] Total Bins 1020\n",
            "[LightGBM] [Info] Number of data points in the train set: 1963, number of used features: 4\n",
            "[LightGBM] [Info] [binary:BoostFromScore]: pavg=0.498217 -> initscore=-0.007132\n",
            "[LightGBM] [Info] Start training from score -0.007132\n",
            "                               Accuracy  Balanced Accuracy  ROC AUC  F1 Score  \\\n",
            "Model                                                                           \n",
            "NuSVC                              0.64               0.60     0.60      0.59   \n",
            "ExtraTreeClassifier                0.62               0.63     0.63      0.62   \n",
            "LabelPropagation                   0.62               0.58     0.58      0.56   \n",
            "LabelSpreading                     0.62               0.58     0.58      0.56   \n",
            "GaussianNB                         0.60               0.59     0.59      0.60   \n",
            "LinearSVC                          0.60               0.59     0.59      0.60   \n",
            "RidgeClassifierCV                  0.60               0.59     0.59      0.60   \n",
            "NearestCentroid                    0.60               0.59     0.59      0.60   \n",
            "RidgeClassifier                    0.60               0.59     0.59      0.60   \n",
            "LogisticRegression                 0.60               0.59     0.59      0.60   \n",
            "AdaBoostClassifier                 0.60               0.59     0.59      0.60   \n",
            "BernoulliNB                        0.60               0.59     0.59      0.60   \n",
            "XGBClassifier                      0.58               0.58     0.58      0.58   \n",
            "QuadraticDiscriminantAnalysis      0.58               0.57     0.57      0.58   \n",
            "SVC                                0.58               0.56     0.56      0.56   \n",
            "LinearDiscriminantAnalysis         0.56               0.54     0.54      0.55   \n",
            "CategoricalNB                      0.56               0.54     0.54      0.55   \n",
            "DecisionTreeClassifier             0.56               0.54     0.54      0.55   \n",
            "DummyClassifier                    0.56               0.50     0.50      0.40   \n",
            "PassiveAggressiveClassifier        0.56               0.50     0.50      0.40   \n",
            "CalibratedClassifierCV             0.52               0.53     0.53      0.52   \n",
            "LGBMClassifier                     0.48               0.49     0.49      0.48   \n",
            "RandomForestClassifier             0.48               0.47     0.47      0.48   \n",
            "ExtraTreesClassifier               0.46               0.45     0.45      0.46   \n",
            "BaggingClassifier                  0.46               0.44     0.44      0.45   \n",
            "SGDClassifier                      0.44               0.50     0.50      0.27   \n",
            "KNeighborsClassifier               0.44               0.43     0.43      0.44   \n",
            "Perceptron                         0.40               0.41     0.41      0.40   \n",
            "\n",
            "                               Time Taken  \n",
            "Model                                      \n",
            "NuSVC                                0.74  \n",
            "ExtraTreeClassifier                  0.07  \n",
            "LabelPropagation                     0.53  \n",
            "LabelSpreading                       0.89  \n",
            "GaussianNB                           0.08  \n",
            "LinearSVC                            0.10  \n",
            "RidgeClassifierCV                    0.09  \n",
            "NearestCentroid                      0.09  \n",
            "RidgeClassifier                      0.18  \n",
            "LogisticRegression                   0.22  \n",
            "AdaBoostClassifier                   1.16  \n",
            "BernoulliNB                          0.06  \n",
            "XGBClassifier                        1.79  \n",
            "QuadraticDiscriminantAnalysis        0.14  \n",
            "SVC                                  0.94  \n",
            "LinearDiscriminantAnalysis           0.10  \n",
            "CategoricalNB                        0.22  \n",
            "DecisionTreeClassifier               0.29  \n",
            "DummyClassifier                      0.06  \n",
            "PassiveAggressiveClassifier          0.14  \n",
            "CalibratedClassifierCV               0.62  \n",
            "LGBMClassifier                       0.46  \n",
            "RandomForestClassifier               5.94  \n",
            "ExtraTreesClassifier                 2.10  \n",
            "BaggingClassifier                    0.67  \n",
            "SGDClassifier                        0.12  \n",
            "KNeighborsClassifier                 0.09  \n",
            "Perceptron                           0.14  \n"
          ]
        }
      ]
    },
    {
      "cell_type": "markdown",
      "source": [
        "### NuSVC model"
      ],
      "metadata": {
        "id": "g_B7p0izBU6i"
      }
    },
    {
      "cell_type": "code",
      "source": [
        "from sklearn.datasets import make_classification\n",
        "from sklearn.model_selection import train_test_split\n",
        "from sklearn.svm import NuSVC\n",
        "from sklearn.metrics import accuracy_score, classification_report\n",
        "\n",
        "# Generate a binary classification dataset\n",
        "X, y = make_classification(n_samples=500, n_features=10, n_informative=5, n_redundant=0, random_state=42)\n",
        "\n",
        "# Split the data\n",
        "# X_train, X_test, y_train, y_test = train_test_split(X, y, test_size=0.2, random_state=42)\n",
        "\n",
        "# Initialize NuSVC\n",
        "model = NuSVC(nu=0.5, kernel='rbf', gamma='scale')\n",
        "# features, features_val, yTrainMI_encoded, yValMI_encoded)\n",
        "# Train the model\n",
        "model.fit(features, yTrainMI_encoded)\n",
        "\n",
        "\n"
      ],
      "metadata": {
        "colab": {
          "base_uri": "https://localhost:8080/",
          "height": 80
        },
        "id": "5szfPzTp91Ur",
        "outputId": "99eb2e0f-a404-48ea-cd16-6ee352651694"
      },
      "execution_count": null,
      "outputs": [
        {
          "output_type": "execute_result",
          "data": {
            "text/plain": [
              "NuSVC()"
            ],
            "text/html": [
              "<style>#sk-container-id-1 {\n",
              "  /* Definition of color scheme common for light and dark mode */\n",
              "  --sklearn-color-text: #000;\n",
              "  --sklearn-color-text-muted: #666;\n",
              "  --sklearn-color-line: gray;\n",
              "  /* Definition of color scheme for unfitted estimators */\n",
              "  --sklearn-color-unfitted-level-0: #fff5e6;\n",
              "  --sklearn-color-unfitted-level-1: #f6e4d2;\n",
              "  --sklearn-color-unfitted-level-2: #ffe0b3;\n",
              "  --sklearn-color-unfitted-level-3: chocolate;\n",
              "  /* Definition of color scheme for fitted estimators */\n",
              "  --sklearn-color-fitted-level-0: #f0f8ff;\n",
              "  --sklearn-color-fitted-level-1: #d4ebff;\n",
              "  --sklearn-color-fitted-level-2: #b3dbfd;\n",
              "  --sklearn-color-fitted-level-3: cornflowerblue;\n",
              "\n",
              "  /* Specific color for light theme */\n",
              "  --sklearn-color-text-on-default-background: var(--sg-text-color, var(--theme-code-foreground, var(--jp-content-font-color1, black)));\n",
              "  --sklearn-color-background: var(--sg-background-color, var(--theme-background, var(--jp-layout-color0, white)));\n",
              "  --sklearn-color-border-box: var(--sg-text-color, var(--theme-code-foreground, var(--jp-content-font-color1, black)));\n",
              "  --sklearn-color-icon: #696969;\n",
              "\n",
              "  @media (prefers-color-scheme: dark) {\n",
              "    /* Redefinition of color scheme for dark theme */\n",
              "    --sklearn-color-text-on-default-background: var(--sg-text-color, var(--theme-code-foreground, var(--jp-content-font-color1, white)));\n",
              "    --sklearn-color-background: var(--sg-background-color, var(--theme-background, var(--jp-layout-color0, #111)));\n",
              "    --sklearn-color-border-box: var(--sg-text-color, var(--theme-code-foreground, var(--jp-content-font-color1, white)));\n",
              "    --sklearn-color-icon: #878787;\n",
              "  }\n",
              "}\n",
              "\n",
              "#sk-container-id-1 {\n",
              "  color: var(--sklearn-color-text);\n",
              "}\n",
              "\n",
              "#sk-container-id-1 pre {\n",
              "  padding: 0;\n",
              "}\n",
              "\n",
              "#sk-container-id-1 input.sk-hidden--visually {\n",
              "  border: 0;\n",
              "  clip: rect(1px 1px 1px 1px);\n",
              "  clip: rect(1px, 1px, 1px, 1px);\n",
              "  height: 1px;\n",
              "  margin: -1px;\n",
              "  overflow: hidden;\n",
              "  padding: 0;\n",
              "  position: absolute;\n",
              "  width: 1px;\n",
              "}\n",
              "\n",
              "#sk-container-id-1 div.sk-dashed-wrapped {\n",
              "  border: 1px dashed var(--sklearn-color-line);\n",
              "  margin: 0 0.4em 0.5em 0.4em;\n",
              "  box-sizing: border-box;\n",
              "  padding-bottom: 0.4em;\n",
              "  background-color: var(--sklearn-color-background);\n",
              "}\n",
              "\n",
              "#sk-container-id-1 div.sk-container {\n",
              "  /* jupyter's `normalize.less` sets `[hidden] { display: none; }`\n",
              "     but bootstrap.min.css set `[hidden] { display: none !important; }`\n",
              "     so we also need the `!important` here to be able to override the\n",
              "     default hidden behavior on the sphinx rendered scikit-learn.org.\n",
              "     See: https://github.com/scikit-learn/scikit-learn/issues/21755 */\n",
              "  display: inline-block !important;\n",
              "  position: relative;\n",
              "}\n",
              "\n",
              "#sk-container-id-1 div.sk-text-repr-fallback {\n",
              "  display: none;\n",
              "}\n",
              "\n",
              "div.sk-parallel-item,\n",
              "div.sk-serial,\n",
              "div.sk-item {\n",
              "  /* draw centered vertical line to link estimators */\n",
              "  background-image: linear-gradient(var(--sklearn-color-text-on-default-background), var(--sklearn-color-text-on-default-background));\n",
              "  background-size: 2px 100%;\n",
              "  background-repeat: no-repeat;\n",
              "  background-position: center center;\n",
              "}\n",
              "\n",
              "/* Parallel-specific style estimator block */\n",
              "\n",
              "#sk-container-id-1 div.sk-parallel-item::after {\n",
              "  content: \"\";\n",
              "  width: 100%;\n",
              "  border-bottom: 2px solid var(--sklearn-color-text-on-default-background);\n",
              "  flex-grow: 1;\n",
              "}\n",
              "\n",
              "#sk-container-id-1 div.sk-parallel {\n",
              "  display: flex;\n",
              "  align-items: stretch;\n",
              "  justify-content: center;\n",
              "  background-color: var(--sklearn-color-background);\n",
              "  position: relative;\n",
              "}\n",
              "\n",
              "#sk-container-id-1 div.sk-parallel-item {\n",
              "  display: flex;\n",
              "  flex-direction: column;\n",
              "}\n",
              "\n",
              "#sk-container-id-1 div.sk-parallel-item:first-child::after {\n",
              "  align-self: flex-end;\n",
              "  width: 50%;\n",
              "}\n",
              "\n",
              "#sk-container-id-1 div.sk-parallel-item:last-child::after {\n",
              "  align-self: flex-start;\n",
              "  width: 50%;\n",
              "}\n",
              "\n",
              "#sk-container-id-1 div.sk-parallel-item:only-child::after {\n",
              "  width: 0;\n",
              "}\n",
              "\n",
              "/* Serial-specific style estimator block */\n",
              "\n",
              "#sk-container-id-1 div.sk-serial {\n",
              "  display: flex;\n",
              "  flex-direction: column;\n",
              "  align-items: center;\n",
              "  background-color: var(--sklearn-color-background);\n",
              "  padding-right: 1em;\n",
              "  padding-left: 1em;\n",
              "}\n",
              "\n",
              "\n",
              "/* Toggleable style: style used for estimator/Pipeline/ColumnTransformer box that is\n",
              "clickable and can be expanded/collapsed.\n",
              "- Pipeline and ColumnTransformer use this feature and define the default style\n",
              "- Estimators will overwrite some part of the style using the `sk-estimator` class\n",
              "*/\n",
              "\n",
              "/* Pipeline and ColumnTransformer style (default) */\n",
              "\n",
              "#sk-container-id-1 div.sk-toggleable {\n",
              "  /* Default theme specific background. It is overwritten whether we have a\n",
              "  specific estimator or a Pipeline/ColumnTransformer */\n",
              "  background-color: var(--sklearn-color-background);\n",
              "}\n",
              "\n",
              "/* Toggleable label */\n",
              "#sk-container-id-1 label.sk-toggleable__label {\n",
              "  cursor: pointer;\n",
              "  display: flex;\n",
              "  width: 100%;\n",
              "  margin-bottom: 0;\n",
              "  padding: 0.5em;\n",
              "  box-sizing: border-box;\n",
              "  text-align: center;\n",
              "  align-items: start;\n",
              "  justify-content: space-between;\n",
              "  gap: 0.5em;\n",
              "}\n",
              "\n",
              "#sk-container-id-1 label.sk-toggleable__label .caption {\n",
              "  font-size: 0.6rem;\n",
              "  font-weight: lighter;\n",
              "  color: var(--sklearn-color-text-muted);\n",
              "}\n",
              "\n",
              "#sk-container-id-1 label.sk-toggleable__label-arrow:before {\n",
              "  /* Arrow on the left of the label */\n",
              "  content: \"▸\";\n",
              "  float: left;\n",
              "  margin-right: 0.25em;\n",
              "  color: var(--sklearn-color-icon);\n",
              "}\n",
              "\n",
              "#sk-container-id-1 label.sk-toggleable__label-arrow:hover:before {\n",
              "  color: var(--sklearn-color-text);\n",
              "}\n",
              "\n",
              "/* Toggleable content - dropdown */\n",
              "\n",
              "#sk-container-id-1 div.sk-toggleable__content {\n",
              "  max-height: 0;\n",
              "  max-width: 0;\n",
              "  overflow: hidden;\n",
              "  text-align: left;\n",
              "  /* unfitted */\n",
              "  background-color: var(--sklearn-color-unfitted-level-0);\n",
              "}\n",
              "\n",
              "#sk-container-id-1 div.sk-toggleable__content.fitted {\n",
              "  /* fitted */\n",
              "  background-color: var(--sklearn-color-fitted-level-0);\n",
              "}\n",
              "\n",
              "#sk-container-id-1 div.sk-toggleable__content pre {\n",
              "  margin: 0.2em;\n",
              "  border-radius: 0.25em;\n",
              "  color: var(--sklearn-color-text);\n",
              "  /* unfitted */\n",
              "  background-color: var(--sklearn-color-unfitted-level-0);\n",
              "}\n",
              "\n",
              "#sk-container-id-1 div.sk-toggleable__content.fitted pre {\n",
              "  /* unfitted */\n",
              "  background-color: var(--sklearn-color-fitted-level-0);\n",
              "}\n",
              "\n",
              "#sk-container-id-1 input.sk-toggleable__control:checked~div.sk-toggleable__content {\n",
              "  /* Expand drop-down */\n",
              "  max-height: 200px;\n",
              "  max-width: 100%;\n",
              "  overflow: auto;\n",
              "}\n",
              "\n",
              "#sk-container-id-1 input.sk-toggleable__control:checked~label.sk-toggleable__label-arrow:before {\n",
              "  content: \"▾\";\n",
              "}\n",
              "\n",
              "/* Pipeline/ColumnTransformer-specific style */\n",
              "\n",
              "#sk-container-id-1 div.sk-label input.sk-toggleable__control:checked~label.sk-toggleable__label {\n",
              "  color: var(--sklearn-color-text);\n",
              "  background-color: var(--sklearn-color-unfitted-level-2);\n",
              "}\n",
              "\n",
              "#sk-container-id-1 div.sk-label.fitted input.sk-toggleable__control:checked~label.sk-toggleable__label {\n",
              "  background-color: var(--sklearn-color-fitted-level-2);\n",
              "}\n",
              "\n",
              "/* Estimator-specific style */\n",
              "\n",
              "/* Colorize estimator box */\n",
              "#sk-container-id-1 div.sk-estimator input.sk-toggleable__control:checked~label.sk-toggleable__label {\n",
              "  /* unfitted */\n",
              "  background-color: var(--sklearn-color-unfitted-level-2);\n",
              "}\n",
              "\n",
              "#sk-container-id-1 div.sk-estimator.fitted input.sk-toggleable__control:checked~label.sk-toggleable__label {\n",
              "  /* fitted */\n",
              "  background-color: var(--sklearn-color-fitted-level-2);\n",
              "}\n",
              "\n",
              "#sk-container-id-1 div.sk-label label.sk-toggleable__label,\n",
              "#sk-container-id-1 div.sk-label label {\n",
              "  /* The background is the default theme color */\n",
              "  color: var(--sklearn-color-text-on-default-background);\n",
              "}\n",
              "\n",
              "/* On hover, darken the color of the background */\n",
              "#sk-container-id-1 div.sk-label:hover label.sk-toggleable__label {\n",
              "  color: var(--sklearn-color-text);\n",
              "  background-color: var(--sklearn-color-unfitted-level-2);\n",
              "}\n",
              "\n",
              "/* Label box, darken color on hover, fitted */\n",
              "#sk-container-id-1 div.sk-label.fitted:hover label.sk-toggleable__label.fitted {\n",
              "  color: var(--sklearn-color-text);\n",
              "  background-color: var(--sklearn-color-fitted-level-2);\n",
              "}\n",
              "\n",
              "/* Estimator label */\n",
              "\n",
              "#sk-container-id-1 div.sk-label label {\n",
              "  font-family: monospace;\n",
              "  font-weight: bold;\n",
              "  display: inline-block;\n",
              "  line-height: 1.2em;\n",
              "}\n",
              "\n",
              "#sk-container-id-1 div.sk-label-container {\n",
              "  text-align: center;\n",
              "}\n",
              "\n",
              "/* Estimator-specific */\n",
              "#sk-container-id-1 div.sk-estimator {\n",
              "  font-family: monospace;\n",
              "  border: 1px dotted var(--sklearn-color-border-box);\n",
              "  border-radius: 0.25em;\n",
              "  box-sizing: border-box;\n",
              "  margin-bottom: 0.5em;\n",
              "  /* unfitted */\n",
              "  background-color: var(--sklearn-color-unfitted-level-0);\n",
              "}\n",
              "\n",
              "#sk-container-id-1 div.sk-estimator.fitted {\n",
              "  /* fitted */\n",
              "  background-color: var(--sklearn-color-fitted-level-0);\n",
              "}\n",
              "\n",
              "/* on hover */\n",
              "#sk-container-id-1 div.sk-estimator:hover {\n",
              "  /* unfitted */\n",
              "  background-color: var(--sklearn-color-unfitted-level-2);\n",
              "}\n",
              "\n",
              "#sk-container-id-1 div.sk-estimator.fitted:hover {\n",
              "  /* fitted */\n",
              "  background-color: var(--sklearn-color-fitted-level-2);\n",
              "}\n",
              "\n",
              "/* Specification for estimator info (e.g. \"i\" and \"?\") */\n",
              "\n",
              "/* Common style for \"i\" and \"?\" */\n",
              "\n",
              ".sk-estimator-doc-link,\n",
              "a:link.sk-estimator-doc-link,\n",
              "a:visited.sk-estimator-doc-link {\n",
              "  float: right;\n",
              "  font-size: smaller;\n",
              "  line-height: 1em;\n",
              "  font-family: monospace;\n",
              "  background-color: var(--sklearn-color-background);\n",
              "  border-radius: 1em;\n",
              "  height: 1em;\n",
              "  width: 1em;\n",
              "  text-decoration: none !important;\n",
              "  margin-left: 0.5em;\n",
              "  text-align: center;\n",
              "  /* unfitted */\n",
              "  border: var(--sklearn-color-unfitted-level-1) 1pt solid;\n",
              "  color: var(--sklearn-color-unfitted-level-1);\n",
              "}\n",
              "\n",
              ".sk-estimator-doc-link.fitted,\n",
              "a:link.sk-estimator-doc-link.fitted,\n",
              "a:visited.sk-estimator-doc-link.fitted {\n",
              "  /* fitted */\n",
              "  border: var(--sklearn-color-fitted-level-1) 1pt solid;\n",
              "  color: var(--sklearn-color-fitted-level-1);\n",
              "}\n",
              "\n",
              "/* On hover */\n",
              "div.sk-estimator:hover .sk-estimator-doc-link:hover,\n",
              ".sk-estimator-doc-link:hover,\n",
              "div.sk-label-container:hover .sk-estimator-doc-link:hover,\n",
              ".sk-estimator-doc-link:hover {\n",
              "  /* unfitted */\n",
              "  background-color: var(--sklearn-color-unfitted-level-3);\n",
              "  color: var(--sklearn-color-background);\n",
              "  text-decoration: none;\n",
              "}\n",
              "\n",
              "div.sk-estimator.fitted:hover .sk-estimator-doc-link.fitted:hover,\n",
              ".sk-estimator-doc-link.fitted:hover,\n",
              "div.sk-label-container:hover .sk-estimator-doc-link.fitted:hover,\n",
              ".sk-estimator-doc-link.fitted:hover {\n",
              "  /* fitted */\n",
              "  background-color: var(--sklearn-color-fitted-level-3);\n",
              "  color: var(--sklearn-color-background);\n",
              "  text-decoration: none;\n",
              "}\n",
              "\n",
              "/* Span, style for the box shown on hovering the info icon */\n",
              ".sk-estimator-doc-link span {\n",
              "  display: none;\n",
              "  z-index: 9999;\n",
              "  position: relative;\n",
              "  font-weight: normal;\n",
              "  right: .2ex;\n",
              "  padding: .5ex;\n",
              "  margin: .5ex;\n",
              "  width: min-content;\n",
              "  min-width: 20ex;\n",
              "  max-width: 50ex;\n",
              "  color: var(--sklearn-color-text);\n",
              "  box-shadow: 2pt 2pt 4pt #999;\n",
              "  /* unfitted */\n",
              "  background: var(--sklearn-color-unfitted-level-0);\n",
              "  border: .5pt solid var(--sklearn-color-unfitted-level-3);\n",
              "}\n",
              "\n",
              ".sk-estimator-doc-link.fitted span {\n",
              "  /* fitted */\n",
              "  background: var(--sklearn-color-fitted-level-0);\n",
              "  border: var(--sklearn-color-fitted-level-3);\n",
              "}\n",
              "\n",
              ".sk-estimator-doc-link:hover span {\n",
              "  display: block;\n",
              "}\n",
              "\n",
              "/* \"?\"-specific style due to the `<a>` HTML tag */\n",
              "\n",
              "#sk-container-id-1 a.estimator_doc_link {\n",
              "  float: right;\n",
              "  font-size: 1rem;\n",
              "  line-height: 1em;\n",
              "  font-family: monospace;\n",
              "  background-color: var(--sklearn-color-background);\n",
              "  border-radius: 1rem;\n",
              "  height: 1rem;\n",
              "  width: 1rem;\n",
              "  text-decoration: none;\n",
              "  /* unfitted */\n",
              "  color: var(--sklearn-color-unfitted-level-1);\n",
              "  border: var(--sklearn-color-unfitted-level-1) 1pt solid;\n",
              "}\n",
              "\n",
              "#sk-container-id-1 a.estimator_doc_link.fitted {\n",
              "  /* fitted */\n",
              "  border: var(--sklearn-color-fitted-level-1) 1pt solid;\n",
              "  color: var(--sklearn-color-fitted-level-1);\n",
              "}\n",
              "\n",
              "/* On hover */\n",
              "#sk-container-id-1 a.estimator_doc_link:hover {\n",
              "  /* unfitted */\n",
              "  background-color: var(--sklearn-color-unfitted-level-3);\n",
              "  color: var(--sklearn-color-background);\n",
              "  text-decoration: none;\n",
              "}\n",
              "\n",
              "#sk-container-id-1 a.estimator_doc_link.fitted:hover {\n",
              "  /* fitted */\n",
              "  background-color: var(--sklearn-color-fitted-level-3);\n",
              "}\n",
              "</style><div id=\"sk-container-id-1\" class=\"sk-top-container\"><div class=\"sk-text-repr-fallback\"><pre>NuSVC()</pre><b>In a Jupyter environment, please rerun this cell to show the HTML representation or trust the notebook. <br />On GitHub, the HTML representation is unable to render, please try loading this page with nbviewer.org.</b></div><div class=\"sk-container\" hidden><div class=\"sk-item\"><div class=\"sk-estimator fitted sk-toggleable\"><input class=\"sk-toggleable__control sk-hidden--visually\" id=\"sk-estimator-id-1\" type=\"checkbox\" checked><label for=\"sk-estimator-id-1\" class=\"sk-toggleable__label fitted sk-toggleable__label-arrow\"><div><div>NuSVC</div></div><div><a class=\"sk-estimator-doc-link fitted\" rel=\"noreferrer\" target=\"_blank\" href=\"https://scikit-learn.org/1.6/modules/generated/sklearn.svm.NuSVC.html\">?<span>Documentation for NuSVC</span></a><span class=\"sk-estimator-doc-link fitted\">i<span>Fitted</span></span></div></label><div class=\"sk-toggleable__content fitted\"><pre>NuSVC()</pre></div> </div></div></div></div>"
            ]
          },
          "metadata": {},
          "execution_count": 35
        }
      ]
    },
    {
      "cell_type": "code",
      "source": [
        "# Predict\n",
        "y_pred = model.predict(features_val)\n",
        "print(y_pred)\n",
        "label_map = {0: 'Left', 1: 'Right'}\n",
        "pred_labels = [label_map[i] for i in y_pred]\n",
        "print(f\"pred_labels: {pred_labels}\")\n",
        "id_test_mi = np.arange(4901,4951)\n",
        "submission_df = pd.DataFrame({'id': id_test_mi, 'label': pred_labels})\n",
        "submission_df.to_csv('submission_M.csv', index=False)\n",
        "print(\"✅ Submission file saved as submission_MI.csv\")\n",
        "# Evaluate\n",
        "# print(\"Accuracy:\", accuracy_score(y_test, y_pred))\n",
        "# print(\"Classification Report:\\n\", classification_report(y_test, y_pred))"
      ],
      "metadata": {
        "colab": {
          "base_uri": "https://localhost:8080/"
        },
        "id": "mBzGVcU4985N",
        "outputId": "3bd2f7f2-643f-4a0d-c4d3-6241e37f0ea1"
      },
      "execution_count": null,
      "outputs": [
        {
          "output_type": "stream",
          "name": "stdout",
          "text": [
            "[0 0 0 0 0 0 0 0 0 0 1 1 1 1 1 1 1 1 1 1 0 0 0 0 0 0 0 0 0 0 0 0 0 0 0 0 0\n",
            " 0 0 0 1 1 1 1 1 1 1 1 1 1]\n",
            "pred_labels: ['Left', 'Left', 'Left', 'Left', 'Left', 'Left', 'Left', 'Left', 'Left', 'Left', 'Right', 'Right', 'Right', 'Right', 'Right', 'Right', 'Right', 'Right', 'Right', 'Right', 'Left', 'Left', 'Left', 'Left', 'Left', 'Left', 'Left', 'Left', 'Left', 'Left', 'Left', 'Left', 'Left', 'Left', 'Left', 'Left', 'Left', 'Left', 'Left', 'Left', 'Right', 'Right', 'Right', 'Right', 'Right', 'Right', 'Right', 'Right', 'Right', 'Right']\n",
            "✅ Submission file saved as submission_MI.csv\n"
          ]
        }
      ]
    }
  ]
}